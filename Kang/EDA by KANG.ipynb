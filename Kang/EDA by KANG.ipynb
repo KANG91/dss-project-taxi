{
 "cells": [
  {
   "cell_type": "code",
   "execution_count": 3,
   "metadata": {
    "collapsed": true
   },
   "outputs": [],
   "source": [
    "from ipyleaflet import * \n",
    "import time"
   ]
  },
  {
   "cell_type": "code",
   "execution_count": 1,
   "metadata": {},
   "outputs": [
    {
     "data": {
      "text/html": [
       "<div>\n",
       "<style>\n",
       "    .dataframe thead tr:only-child th {\n",
       "        text-align: right;\n",
       "    }\n",
       "\n",
       "    .dataframe thead th {\n",
       "        text-align: left;\n",
       "    }\n",
       "\n",
       "    .dataframe tbody tr th {\n",
       "        vertical-align: top;\n",
       "    }\n",
       "</style>\n",
       "<table border=\"1\" class=\"dataframe\">\n",
       "  <thead>\n",
       "    <tr style=\"text-align: right;\">\n",
       "      <th></th>\n",
       "      <th>id</th>\n",
       "      <th>vendor_id</th>\n",
       "      <th>pickup_datetime</th>\n",
       "      <th>passenger_count</th>\n",
       "      <th>pickup_longitude</th>\n",
       "      <th>pickup_latitude</th>\n",
       "      <th>dropoff_longitude</th>\n",
       "      <th>dropoff_latitude</th>\n",
       "      <th>store_and_fwd_flag</th>\n",
       "    </tr>\n",
       "  </thead>\n",
       "  <tbody>\n",
       "    <tr>\n",
       "      <th>0</th>\n",
       "      <td>id3004672</td>\n",
       "      <td>1</td>\n",
       "      <td>2016-06-30 23:59:58</td>\n",
       "      <td>1</td>\n",
       "      <td>-73.988129</td>\n",
       "      <td>40.732029</td>\n",
       "      <td>-73.990173</td>\n",
       "      <td>40.756680</td>\n",
       "      <td>N</td>\n",
       "    </tr>\n",
       "    <tr>\n",
       "      <th>1</th>\n",
       "      <td>id3505355</td>\n",
       "      <td>1</td>\n",
       "      <td>2016-06-30 23:59:53</td>\n",
       "      <td>1</td>\n",
       "      <td>-73.964203</td>\n",
       "      <td>40.679993</td>\n",
       "      <td>-73.959808</td>\n",
       "      <td>40.655403</td>\n",
       "      <td>N</td>\n",
       "    </tr>\n",
       "    <tr>\n",
       "      <th>2</th>\n",
       "      <td>id1217141</td>\n",
       "      <td>1</td>\n",
       "      <td>2016-06-30 23:59:47</td>\n",
       "      <td>1</td>\n",
       "      <td>-73.997437</td>\n",
       "      <td>40.737583</td>\n",
       "      <td>-73.986160</td>\n",
       "      <td>40.729523</td>\n",
       "      <td>N</td>\n",
       "    </tr>\n",
       "    <tr>\n",
       "      <th>3</th>\n",
       "      <td>id2150126</td>\n",
       "      <td>2</td>\n",
       "      <td>2016-06-30 23:59:41</td>\n",
       "      <td>1</td>\n",
       "      <td>-73.956070</td>\n",
       "      <td>40.771900</td>\n",
       "      <td>-73.986427</td>\n",
       "      <td>40.730469</td>\n",
       "      <td>N</td>\n",
       "    </tr>\n",
       "    <tr>\n",
       "      <th>4</th>\n",
       "      <td>id1598245</td>\n",
       "      <td>1</td>\n",
       "      <td>2016-06-30 23:59:33</td>\n",
       "      <td>1</td>\n",
       "      <td>-73.970215</td>\n",
       "      <td>40.761475</td>\n",
       "      <td>-73.961510</td>\n",
       "      <td>40.755890</td>\n",
       "      <td>N</td>\n",
       "    </tr>\n",
       "  </tbody>\n",
       "</table>\n",
       "</div>"
      ],
      "text/plain": [
       "          id  vendor_id      pickup_datetime  passenger_count  \\\n",
       "0  id3004672          1  2016-06-30 23:59:58                1   \n",
       "1  id3505355          1  2016-06-30 23:59:53                1   \n",
       "2  id1217141          1  2016-06-30 23:59:47                1   \n",
       "3  id2150126          2  2016-06-30 23:59:41                1   \n",
       "4  id1598245          1  2016-06-30 23:59:33                1   \n",
       "\n",
       "   pickup_longitude  pickup_latitude  dropoff_longitude  dropoff_latitude  \\\n",
       "0        -73.988129        40.732029         -73.990173         40.756680   \n",
       "1        -73.964203        40.679993         -73.959808         40.655403   \n",
       "2        -73.997437        40.737583         -73.986160         40.729523   \n",
       "3        -73.956070        40.771900         -73.986427         40.730469   \n",
       "4        -73.970215        40.761475         -73.961510         40.755890   \n",
       "\n",
       "  store_and_fwd_flag  \n",
       "0                  N  \n",
       "1                  N  \n",
       "2                  N  \n",
       "3                  N  \n",
       "4                  N  "
      ]
     },
     "execution_count": 1,
     "metadata": {},
     "output_type": "execute_result"
    }
   ],
   "source": [
    "test_raw = pd.read_csv(\"test.csv\")\n",
    "test_raw.head()"
   ]
  },
  {
   "cell_type": "markdown",
   "metadata": {},
   "source": [
    "데이터가 너무 많아 맨 처음 100개(0~99)까지만 추려 먼저 표시"
   ]
  },
  {
   "cell_type": "code",
   "execution_count": 2,
   "metadata": {},
   "outputs": [
    {
     "data": {
      "text/html": [
       "<div>\n",
       "<style>\n",
       "    .dataframe thead tr:only-child th {\n",
       "        text-align: right;\n",
       "    }\n",
       "\n",
       "    .dataframe thead th {\n",
       "        text-align: left;\n",
       "    }\n",
       "\n",
       "    .dataframe tbody tr th {\n",
       "        vertical-align: top;\n",
       "    }\n",
       "</style>\n",
       "<table border=\"1\" class=\"dataframe\">\n",
       "  <thead>\n",
       "    <tr style=\"text-align: right;\">\n",
       "      <th></th>\n",
       "      <th>id</th>\n",
       "      <th>vendor_id</th>\n",
       "      <th>pickup_datetime</th>\n",
       "      <th>passenger_count</th>\n",
       "      <th>pickup_longitude</th>\n",
       "      <th>pickup_latitude</th>\n",
       "      <th>dropoff_longitude</th>\n",
       "      <th>dropoff_latitude</th>\n",
       "      <th>store_and_fwd_flag</th>\n",
       "    </tr>\n",
       "  </thead>\n",
       "  <tbody>\n",
       "    <tr>\n",
       "      <th>95</th>\n",
       "      <td>id3645922</td>\n",
       "      <td>2</td>\n",
       "      <td>2016-06-30 23:34:16</td>\n",
       "      <td>1</td>\n",
       "      <td>-73.975418</td>\n",
       "      <td>40.749756</td>\n",
       "      <td>-73.947563</td>\n",
       "      <td>40.788605</td>\n",
       "      <td>N</td>\n",
       "    </tr>\n",
       "    <tr>\n",
       "      <th>96</th>\n",
       "      <td>id1595264</td>\n",
       "      <td>1</td>\n",
       "      <td>2016-06-30 23:33:22</td>\n",
       "      <td>1</td>\n",
       "      <td>-73.977234</td>\n",
       "      <td>40.751965</td>\n",
       "      <td>-73.985893</td>\n",
       "      <td>40.726826</td>\n",
       "      <td>N</td>\n",
       "    </tr>\n",
       "    <tr>\n",
       "      <th>97</th>\n",
       "      <td>id2594446</td>\n",
       "      <td>1</td>\n",
       "      <td>2016-06-30 23:33:18</td>\n",
       "      <td>3</td>\n",
       "      <td>-73.997322</td>\n",
       "      <td>40.719124</td>\n",
       "      <td>-73.990295</td>\n",
       "      <td>40.749935</td>\n",
       "      <td>N</td>\n",
       "    </tr>\n",
       "    <tr>\n",
       "      <th>98</th>\n",
       "      <td>id0777968</td>\n",
       "      <td>1</td>\n",
       "      <td>2016-06-30 23:32:41</td>\n",
       "      <td>1</td>\n",
       "      <td>-74.000488</td>\n",
       "      <td>40.727402</td>\n",
       "      <td>-73.999969</td>\n",
       "      <td>40.761337</td>\n",
       "      <td>N</td>\n",
       "    </tr>\n",
       "    <tr>\n",
       "      <th>99</th>\n",
       "      <td>id0426749</td>\n",
       "      <td>1</td>\n",
       "      <td>2016-06-30 23:32:09</td>\n",
       "      <td>4</td>\n",
       "      <td>-73.986351</td>\n",
       "      <td>40.755756</td>\n",
       "      <td>-73.947685</td>\n",
       "      <td>40.752155</td>\n",
       "      <td>N</td>\n",
       "    </tr>\n",
       "  </tbody>\n",
       "</table>\n",
       "</div>"
      ],
      "text/plain": [
       "           id  vendor_id      pickup_datetime  passenger_count  \\\n",
       "95  id3645922          2  2016-06-30 23:34:16                1   \n",
       "96  id1595264          1  2016-06-30 23:33:22                1   \n",
       "97  id2594446          1  2016-06-30 23:33:18                3   \n",
       "98  id0777968          1  2016-06-30 23:32:41                1   \n",
       "99  id0426749          1  2016-06-30 23:32:09                4   \n",
       "\n",
       "    pickup_longitude  pickup_latitude  dropoff_longitude  dropoff_latitude  \\\n",
       "95        -73.975418        40.749756         -73.947563         40.788605   \n",
       "96        -73.977234        40.751965         -73.985893         40.726826   \n",
       "97        -73.997322        40.719124         -73.990295         40.749935   \n",
       "98        -74.000488        40.727402         -73.999969         40.761337   \n",
       "99        -73.986351        40.755756         -73.947685         40.752155   \n",
       "\n",
       "   store_and_fwd_flag  \n",
       "95                  N  \n",
       "96                  N  \n",
       "97                  N  \n",
       "98                  N  \n",
       "99                  N  "
      ]
     },
     "execution_count": 2,
     "metadata": {},
     "output_type": "execute_result"
    }
   ],
   "source": [
    "test = test_raw.iloc[ : 100 ,  :  ]\n",
    "test.tail()"
   ]
  },
  {
   "cell_type": "markdown",
   "metadata": {},
   "source": [
    "loc  = [(latitude, longitude)] # 이 순서대로 작성할 것."
   ]
  },
  {
   "cell_type": "code",
   "execution_count": 37,
   "metadata": {},
   "outputs": [],
   "source": [
    "pick_up_longitude = round(test[\"pickup_longitude\"][ : 100], 3)\n",
    "pick_up_latitude = round(test[\"pickup_latitude\"][ : 100], 3)"
   ]
  },
  {
   "cell_type": "code",
   "execution_count": 38,
   "metadata": {},
   "outputs": [],
   "source": [
    "locs = list(zip(pick_up_latitude, pick_up_longitude))  "
   ]
  },
  {
   "cell_type": "code",
   "execution_count": 39,
   "metadata": {},
   "outputs": [],
   "source": [
    "center = (40.749756, -73.975418)\n",
    "zoom = 13\n",
    "m = Map(center = center, zoom = zoom)"
   ]
  },
  {
   "cell_type": "code",
   "execution_count": 40,
   "metadata": {
    "scrolled": true
   },
   "outputs": [
    {
     "data": {
      "application/vnd.jupyter.widget-view+json": {
       "model_id": "22f335742e4b4c42a2ecd505312da26d",
       "version_major": 2,
       "version_minor": 0
      },
      "text/html": [
       "<p>Failed to display Jupyter Widget of type <code>Map</code>.</p>\n",
       "<p>\n",
       "  If you're reading this message in the Jupyter Notebook or JupyterLab Notebook, it may mean\n",
       "  that the widgets JavaScript is still loading. If this message persists, it\n",
       "  likely means that the widgets JavaScript library is either not installed or\n",
       "  not enabled. See the <a href=\"https://ipywidgets.readthedocs.io/en/stable/user_install.html\">Jupyter\n",
       "  Widgets Documentation</a> for setup instructions.\n",
       "</p>\n",
       "<p>\n",
       "  If you're reading this message in another frontend (for example, a static\n",
       "  rendering on GitHub or <a href=\"https://nbviewer.jupyter.org/\">NBViewer</a>),\n",
       "  it may mean that your frontend doesn't currently support widgets.\n",
       "</p>\n"
      ],
      "text/plain": [
       "Map(basemap={'url': 'https://{s}.tile.openstreetmap.org/{z}/{x}/{y}.png', 'max_zoom': 19, 'attribution': 'Map data (c) <a href=\"https://openstreetmap.org\">OpenStreetMap</a> contributors'}, center=[40.749756, -73.975418], default_tiles=TileLayer(max_zoom=19, min_zoom=1, options=['attribution', 'detect_retina', 'max_zoom', 'min_zoom', 'opacity', 'tile_size']), layers=(TileLayer(max_zoom=19, min_zoom=1, options=['attribution', 'detect_retina', 'max_zoom', 'min_zoom', 'opacity', 'tile_size']), Marker(location=[40.731999999999999, -73.988], options=['alt', 'clickable', 'draggable', 'keyboard', 'opacity', 'rise_offset', 'rise_on_hover', 'title', 'z_index_offset']), Marker(location=[40.68, -73.963999999999999], options=['alt', 'clickable', 'draggable', 'keyboard', 'opacity', 'rise_offset', 'rise_on_hover', 'title', 'z_index_offset']), Marker(location=[40.738, -73.997], options=['alt', 'clickable', 'draggable', 'keyboard', 'opacity', 'rise_offset', 'rise_on_hover', 'title', 'z_index_offset']), Marker(location=[40.771999999999998, -73.956000000000003], options=['alt', 'clickable', 'draggable', 'keyboard', 'opacity', 'rise_offset', 'rise_on_hover', 'title', 'z_index_offset']), Marker(location=[40.761000000000003, -73.969999999999999], options=['alt', 'clickable', 'draggable', 'keyboard', 'opacity', 'rise_offset', 'rise_on_hover', 'title', 'z_index_offset']), Marker(location=[40.75, -73.991], options=['alt', 'clickable', 'draggable', 'keyboard', 'opacity', 'rise_offset', 'rise_on_hover', 'title', 'z_index_offset']), Marker(location=[40.741999999999997, -73.977999999999994], options=['alt', 'clickable', 'draggable', 'keyboard', 'opacity', 'rise_offset', 'rise_on_hover', 'title', 'z_index_offset']), Marker(location=[40.701999999999998, -74.013000000000005], options=['alt', 'clickable', 'draggable', 'keyboard', 'opacity', 'rise_offset', 'rise_on_hover', 'title', 'z_index_offset']), Marker(location=[40.731000000000002, -73.992000000000004], options=['alt', 'clickable', 'draggable', 'keyboard', 'opacity', 'rise_offset', 'rise_on_hover', 'title', 'z_index_offset']), Marker(location=[40.749000000000002, -73.992999999999995], options=['alt', 'clickable', 'draggable', 'keyboard', 'opacity', 'rise_offset', 'rise_on_hover', 'title', 'z_index_offset']), Marker(location=[40.677999999999997, -73.968999999999994], options=['alt', 'clickable', 'draggable', 'keyboard', 'opacity', 'rise_offset', 'rise_on_hover', 'title', 'z_index_offset']), Marker(location=[40.756999999999998, -73.983000000000004], options=['alt', 'clickable', 'draggable', 'keyboard', 'opacity', 'rise_offset', 'rise_on_hover', 'title', 'z_index_offset']), Marker(location=[40.767000000000003, -73.921000000000006], options=['alt', 'clickable', 'draggable', 'keyboard', 'opacity', 'rise_offset', 'rise_on_hover', 'title', 'z_index_offset']), Marker(location=[40.734999999999999, -73.986999999999995], options=['alt', 'clickable', 'draggable', 'keyboard', 'opacity', 'rise_offset', 'rise_on_hover', 'title', 'z_index_offset']), Marker(location=[40.747999999999998, -73.995999999999995], options=['alt', 'clickable', 'draggable', 'keyboard', 'opacity', 'rise_offset', 'rise_on_hover', 'title', 'z_index_offset']), Marker(location=[40.762, -73.968000000000004], options=['alt', 'clickable', 'draggable', 'keyboard', 'opacity', 'rise_offset', 'rise_on_hover', 'title', 'z_index_offset']), Marker(location=[40.741, -74.007999999999996], options=['alt', 'clickable', 'draggable', 'keyboard', 'opacity', 'rise_offset', 'rise_on_hover', 'title', 'z_index_offset']), Marker(location=[40.725000000000001, -73.983999999999995], options=['alt', 'clickable', 'draggable', 'keyboard', 'opacity', 'rise_offset', 'rise_on_hover', 'title', 'z_index_offset']), Marker(location=[40.768000000000001, -73.953000000000003], options=['alt', 'clickable', 'draggable', 'keyboard', 'opacity', 'rise_offset', 'rise_on_hover', 'title', 'z_index_offset']), Marker(location=[40.793999999999997, -73.966999999999999], options=['alt', 'clickable', 'draggable', 'keyboard', 'opacity', 'rise_offset', 'rise_on_hover', 'title', 'z_index_offset']), Marker(location=[40.725999999999999, -73.995000000000005], options=['alt', 'clickable', 'draggable', 'keyboard', 'opacity', 'rise_offset', 'rise_on_hover', 'title', 'z_index_offset']), Marker(location=[40.758000000000003, -73.965999999999994], options=['alt', 'clickable', 'draggable', 'keyboard', 'opacity', 'rise_offset', 'rise_on_hover', 'title', 'z_index_offset']), Marker(location=[40.762, -73.986000000000004], options=['alt', 'clickable', 'draggable', 'keyboard', 'opacity', 'rise_offset', 'rise_on_hover', 'title', 'z_index_offset']), Marker(location=[40.713999999999999, -73.956000000000003], options=['alt', 'clickable', 'draggable', 'keyboard', 'opacity', 'rise_offset', 'rise_on_hover', 'title', 'z_index_offset']), Marker(location=[40.743000000000002, -73.983999999999995], options=['alt', 'clickable', 'draggable', 'keyboard', 'opacity', 'rise_offset', 'rise_on_hover', 'title', 'z_index_offset']), Marker(location=[40.774000000000001, -73.873000000000005], options=['alt', 'clickable', 'draggable', 'keyboard', 'opacity', 'rise_offset', 'rise_on_hover', 'title', 'z_index_offset']), Marker(location=[40.762999999999998, -73.968000000000004], options=['alt', 'clickable', 'draggable', 'keyboard', 'opacity', 'rise_offset', 'rise_on_hover', 'title', 'z_index_offset']), Marker(location=[40.759999999999998, -73.984999999999999], options=['alt', 'clickable', 'draggable', 'keyboard', 'opacity', 'rise_offset', 'rise_on_hover', 'title', 'z_index_offset']), Marker(location=[40.765999999999998, -73.988], options=['alt', 'clickable', 'draggable', 'keyboard', 'opacity', 'rise_offset', 'rise_on_hover', 'title', 'z_index_offset']), Marker(location=[40.747, -73.984999999999999], options=['alt', 'clickable', 'draggable', 'keyboard', 'opacity', 'rise_offset', 'rise_on_hover', 'title', 'z_index_offset']), Marker(location=[40.755000000000003, -73.978999999999999], options=['alt', 'clickable', 'draggable', 'keyboard', 'opacity', 'rise_offset', 'rise_on_hover', 'title', 'z_index_offset']), Marker(location=[40.725999999999999, -73.977999999999994], options=['alt', 'clickable', 'draggable', 'keyboard', 'opacity', 'rise_offset', 'rise_on_hover', 'title', 'z_index_offset']), Marker(location=[40.732999999999997, -74.007000000000005], options=['alt', 'clickable', 'draggable', 'keyboard', 'opacity', 'rise_offset', 'rise_on_hover', 'title', 'z_index_offset']), Marker(location=[40.768000000000001, -73.983000000000004], options=['alt', 'clickable', 'draggable', 'keyboard', 'opacity', 'rise_offset', 'rise_on_hover', 'title', 'z_index_offset']), Marker(location=[40.704000000000001, -74.007999999999996], options=['alt', 'clickable', 'draggable', 'keyboard', 'opacity', 'rise_offset', 'rise_on_hover', 'title', 'z_index_offset']), Marker(location=[40.759, -73.981999999999999], options=['alt', 'clickable', 'draggable', 'keyboard', 'opacity', 'rise_offset', 'rise_on_hover', 'title', 'z_index_offset']), Marker(location=[40.731999999999999, -73.984999999999999], options=['alt', 'clickable', 'draggable', 'keyboard', 'opacity', 'rise_offset', 'rise_on_hover', 'title', 'z_index_offset']), Marker(location=[40.764000000000003, -73.962000000000003], options=['alt', 'clickable', 'draggable', 'keyboard', 'opacity', 'rise_offset', 'rise_on_hover', 'title', 'z_index_offset']), Marker(location=[40.747999999999998, -73.977000000000004], options=['alt', 'clickable', 'draggable', 'keyboard', 'opacity', 'rise_offset', 'rise_on_hover', 'title', 'z_index_offset']), Marker(location=[40.734000000000002, -73.991], options=['alt', 'clickable', 'draggable', 'keyboard', 'opacity', 'rise_offset', 'rise_on_hover', 'title', 'z_index_offset']), Marker(location=[40.756, -73.971999999999994], options=['alt', 'clickable', 'draggable', 'keyboard', 'opacity', 'rise_offset', 'rise_on_hover', 'title', 'z_index_offset']), Marker(location=[40.719000000000001, -74.004999999999995], options=['alt', 'clickable', 'draggable', 'keyboard', 'opacity', 'rise_offset', 'rise_on_hover', 'title', 'z_index_offset']), Marker(location=[40.756999999999998, -73.989999999999995], options=['alt', 'clickable', 'draggable', 'keyboard', 'opacity', 'rise_offset', 'rise_on_hover', 'title', 'z_index_offset']), Marker(location=[40.762, -73.969999999999999], options=['alt', 'clickable', 'draggable', 'keyboard', 'opacity', 'rise_offset', 'rise_on_hover', 'title', 'z_index_offset']), Marker(location=[40.744999999999997, -73.977999999999994], options=['alt', 'clickable', 'draggable', 'keyboard', 'opacity', 'rise_offset', 'rise_on_hover', 'title', 'z_index_offset']), Marker(location=[40.747999999999998, -73.984999999999999], options=['alt', 'clickable', 'draggable', 'keyboard', 'opacity', 'rise_offset', 'rise_on_hover', 'title', 'z_index_offset']), Marker(location=[40.756, -73.986999999999995], options=['alt', 'clickable', 'draggable', 'keyboard', 'opacity', 'rise_offset', 'rise_on_hover', 'title', 'z_index_offset']), Marker(location=[40.746000000000002, -73.994], options=['alt', 'clickable', 'draggable', 'keyboard', 'opacity', 'rise_offset', 'rise_on_hover', 'title', 'z_index_offset']), Marker(location=[40.780000000000001, -73.944999999999993], options=['alt', 'clickable', 'draggable', 'keyboard', 'opacity', 'rise_offset', 'rise_on_hover', 'title', 'z_index_offset']), Marker(location=[40.744, -73.989000000000004], options=['alt', 'clickable', 'draggable', 'keyboard', 'opacity', 'rise_offset', 'rise_on_hover', 'title', 'z_index_offset']), Marker(location=[40.741, -74.001000000000005], options=['alt', 'clickable', 'draggable', 'keyboard', 'opacity', 'rise_offset', 'rise_on_hover', 'title', 'z_index_offset']), Marker(location=[40.741999999999997, -73.980999999999995], options=['alt', 'clickable', 'draggable', 'keyboard', 'opacity', 'rise_offset', 'rise_on_hover', 'title', 'z_index_offset']), Marker(location=[40.722000000000001, -73.989000000000004], options=['alt', 'clickable', 'draggable', 'keyboard', 'opacity', 'rise_offset', 'rise_on_hover', 'title', 'z_index_offset']), Marker(location=[40.744999999999997, -73.975999999999999], options=['alt', 'clickable', 'draggable', 'keyboard', 'opacity', 'rise_offset', 'rise_on_hover', 'title', 'z_index_offset']), Marker(location=[40.722000000000001, -73.986999999999995], options=['alt', 'clickable', 'draggable', 'keyboard', 'opacity', 'rise_offset', 'rise_on_hover', 'title', 'z_index_offset']), Marker(location=[40.642000000000003, -73.787999999999997], options=['alt', 'clickable', 'draggable', 'keyboard', 'opacity', 'rise_offset', 'rise_on_hover', 'title', 'z_index_offset']), Marker(location=[40.771000000000001, -73.866], options=['alt', 'clickable', 'draggable', 'keyboard', 'opacity', 'rise_offset', 'rise_on_hover', 'title', 'z_index_offset']), Marker(location=[40.642000000000003, -73.787999999999997], options=['alt', 'clickable', 'draggable', 'keyboard', 'opacity', 'rise_offset', 'rise_on_hover', 'title', 'z_index_offset']), Marker(location=[40.731999999999999, -73.998999999999995], options=['alt', 'clickable', 'draggable', 'keyboard', 'opacity', 'rise_offset', 'rise_on_hover', 'title', 'z_index_offset']), Marker(location=[40.750999999999998, -73.974000000000004], options=['alt', 'clickable', 'draggable', 'keyboard', 'opacity', 'rise_offset', 'rise_on_hover', 'title', 'z_index_offset']), Marker(location=[40.718000000000004, -73.986999999999995], options=['alt', 'clickable', 'draggable', 'keyboard', 'opacity', 'rise_offset', 'rise_on_hover', 'title', 'z_index_offset']), Marker(location=[40.752000000000002, -73.989999999999995], options=['alt', 'clickable', 'draggable', 'keyboard', 'opacity', 'rise_offset', 'rise_on_hover', 'title', 'z_index_offset']), Marker(location=[40.722999999999999, -73.951999999999998], options=['alt', 'clickable', 'draggable', 'keyboard', 'opacity', 'rise_offset', 'rise_on_hover', 'title', 'z_index_offset']), Marker(location=[40.728999999999999, -73.989999999999995], options=['alt', 'clickable', 'draggable', 'keyboard', 'opacity', 'rise_offset', 'rise_on_hover', 'title', 'z_index_offset']), Marker(location=[40.753999999999998, -73.980999999999995], options=['alt', 'clickable', 'draggable', 'keyboard', 'opacity', 'rise_offset', 'rise_on_hover', 'title', 'z_index_offset']), Marker(location=[40.642000000000003, -73.787999999999997], options=['alt', 'clickable', 'draggable', 'keyboard', 'opacity', 'rise_offset', 'rise_on_hover', 'title', 'z_index_offset']), Marker(location=[40.741999999999997, -73.992999999999995], options=['alt', 'clickable', 'draggable', 'keyboard', 'opacity', 'rise_offset', 'rise_on_hover', 'title', 'z_index_offset']), Marker(location=[40.755000000000003, -73.981999999999999], options=['alt', 'clickable', 'draggable', 'keyboard', 'opacity', 'rise_offset', 'rise_on_hover', 'title', 'z_index_offset']), Marker(location=[40.746000000000002, -73.986000000000004], options=['alt', 'clickable', 'draggable', 'keyboard', 'opacity', 'rise_offset', 'rise_on_hover', 'title', 'z_index_offset']), Marker(location=[40.741, -73.989999999999995], options=['alt', 'clickable', 'draggable', 'keyboard', 'opacity', 'rise_offset', 'rise_on_hover', 'title', 'z_index_offset']), Marker(location=[40.758000000000003, -73.992000000000004], options=['alt', 'clickable', 'draggable', 'keyboard', 'opacity', 'rise_offset', 'rise_on_hover', 'title', 'z_index_offset']), Marker(location=[40.738, -73.988], options=['alt', 'clickable', 'draggable', 'keyboard', 'opacity', 'rise_offset', 'rise_on_hover', 'title', 'z_index_offset']), Marker(location=[40.753999999999998, -73.995999999999995], options=['alt', 'clickable', 'draggable', 'keyboard', 'opacity', 'rise_offset', 'rise_on_hover', 'title', 'z_index_offset']), Marker(location=[40.752000000000002, -73.977999999999994], options=['alt', 'clickable', 'draggable', 'keyboard', 'opacity', 'rise_offset', 'rise_on_hover', 'title', 'z_index_offset']), Marker(location=[40.744, -73.983999999999995], options=['alt', 'clickable', 'draggable', 'keyboard', 'opacity', 'rise_offset', 'rise_on_hover', 'title', 'z_index_offset']), Marker(location=[40.719000000000001, -73.962999999999994], options=['alt', 'clickable', 'draggable', 'keyboard', 'opacity', 'rise_offset', 'rise_on_hover', 'title', 'z_index_offset']), Marker(location=[40.741999999999997, -74.004000000000005], options=['alt', 'clickable', 'draggable', 'keyboard', 'opacity', 'rise_offset', 'rise_on_hover', 'title', 'z_index_offset']), Marker(location=[40.703000000000003, -74.010000000000005], options=['alt', 'clickable', 'draggable', 'keyboard', 'opacity', 'rise_offset', 'rise_on_hover', 'title', 'z_index_offset']), Marker(location=[40.726999999999997, -73.986000000000004], options=['alt', 'clickable', 'draggable', 'keyboard', 'opacity', 'rise_offset', 'rise_on_hover', 'title', 'z_index_offset']), Marker(location=[40.753, -73.980999999999995], options=['alt', 'clickable', 'draggable', 'keyboard', 'opacity', 'rise_offset', 'rise_on_hover', 'title', 'z_index_offset']), Marker(location=[40.750999999999998, -74.006], options=['alt', 'clickable', 'draggable', 'keyboard', 'opacity', 'rise_offset', 'rise_on_hover', 'title', 'z_index_offset']), Marker(location=[40.758000000000003, -73.968000000000004], options=['alt', 'clickable', 'draggable', 'keyboard', 'opacity', 'rise_offset', 'rise_on_hover', 'title', 'z_index_offset']), Marker(location=[40.740000000000002, -73.991], options=['alt', 'clickable', 'draggable', 'keyboard', 'opacity', 'rise_offset', 'rise_on_hover', 'title', 'z_index_offset']), Marker(location=[40.738, -73.997], options=['alt', 'clickable', 'draggable', 'keyboard', 'opacity', 'rise_offset', 'rise_on_hover', 'title', 'z_index_offset']), Marker(location=[40.731000000000002, -74.001000000000005], options=['alt', 'clickable', 'draggable', 'keyboard', 'opacity', 'rise_offset', 'rise_on_hover', 'title', 'z_index_offset']), Marker(location=[40.753, -73.980000000000004], options=['alt', 'clickable', 'draggable', 'keyboard', 'opacity', 'rise_offset', 'rise_on_hover', 'title', 'z_index_offset']), Marker(location=[40.768999999999998, -73.965000000000003], options=['alt', 'clickable', 'draggable', 'keyboard', 'opacity', 'rise_offset', 'rise_on_hover', 'title', 'z_index_offset']), Marker(location=[40.722000000000001, -73.986999999999995], options=['alt', 'clickable', 'draggable', 'keyboard', 'opacity', 'rise_offset', 'rise_on_hover', 'title', 'z_index_offset']), Marker(location=[40.758000000000003, -73.992999999999995], options=['alt', 'clickable', 'draggable', 'keyboard', 'opacity', 'rise_offset', 'rise_on_hover', 'title', 'z_index_offset']), Marker(location=[40.719999999999999, -73.997], options=['alt', 'clickable', 'draggable', 'keyboard', 'opacity', 'rise_offset', 'rise_on_hover', 'title', 'z_index_offset']), Marker(location=[40.762, -73.983000000000004], options=['alt', 'clickable', 'draggable', 'keyboard', 'opacity', 'rise_offset', 'rise_on_hover', 'title', 'z_index_offset']), Marker(location=[40.764000000000003, -73.995999999999995], options=['alt', 'clickable', 'draggable', 'keyboard', 'opacity', 'rise_offset', 'rise_on_hover', 'title', 'z_index_offset']), Marker(location=[40.774999999999999, -73.950000000000003], options=['alt', 'clickable', 'draggable', 'keyboard', 'opacity', 'rise_offset', 'rise_on_hover', 'title', 'z_index_offset']), Marker(location=[40.725000000000001, -74.0], options=['alt', 'clickable', 'draggable', 'keyboard', 'opacity', 'rise_offset', 'rise_on_hover', 'title', 'z_index_offset']), Marker(location=[40.726999999999997, -73.977000000000004], options=['alt', 'clickable', 'draggable', 'keyboard', 'opacity', 'rise_offset', 'rise_on_hover', 'title', 'z_index_offset']), Marker(location=[40.75, -73.974999999999994], options=['alt', 'clickable', 'draggable', 'keyboard', 'opacity', 'rise_offset', 'rise_on_hover', 'title', 'z_index_offset']), Marker(location=[40.752000000000002, -73.977000000000004], options=['alt', 'clickable', 'draggable', 'keyboard', 'opacity', 'rise_offset', 'rise_on_hover', 'title', 'z_index_offset']), Marker(location=[40.719000000000001, -73.997], options=['alt', 'clickable', 'draggable', 'keyboard', 'opacity', 'rise_offset', 'rise_on_hover', 'title', 'z_index_offset']), Marker(location=[40.726999999999997, -74.0], options=['alt', 'clickable', 'draggable', 'keyboard', 'opacity', 'rise_offset', 'rise_on_hover', 'title', 'z_index_offset']), Marker(location=[40.756, -73.986000000000004], options=['alt', 'clickable', 'draggable', 'keyboard', 'opacity', 'rise_offset', 'rise_on_hover', 'title', 'z_index_offset'])), layout=Layout(align_self='stretch', height='400px'), options=['attribution_control', 'basemap', 'bounce_at_zoom_limits', 'box_zoom', 'center', 'close_popup_on_click', 'double_click_zoom', 'dragging', 'inertia', 'inertia_deceleration', 'inertia_max_speed', 'keyboard', 'keyboard_pan_offset', 'keyboard_zoom_offset', 'max_zoom', 'min_zoom', 'scroll_wheel_zoom', 'tap', 'tap_tolerance', 'touch_zoom', 'world_copy_jump', 'zoom', 'zoom_animation_threshold', 'zoom_control', 'zoom_start'], zoom=13)"
      ]
     },
     "metadata": {},
     "output_type": "display_data"
    }
   ],
   "source": [
    "for loc in locs :\n",
    "    marker = Marker(location = loc)\n",
    "    m += marker\n",
    "    time.sleep(0.5)\n",
    "m"
   ]
  },
  {
   "cell_type": "markdown",
   "metadata": {},
   "source": [
    "너무 디테일하게 표현되어있는 것 같아 십진수로 표현된 \n",
    "위도와 경도에 대한 공부를 해야할 필요성을 느낌."
   ]
  },
  {
   "cell_type": "markdown",
   "metadata": {},
   "source": [
    "소수 넷째자리를 1 증가 했을 시 구글 지도상 거리 약 1m 변화( 3ft)\n",
    "소수 셋째자리를 1 증가 했을 시 구글 지도상 거리 약 130m 변화(427ft)"
   ]
  },
  {
   "cell_type": "markdown",
   "metadata": {},
   "source": [
    "소수 셋째 자리까지 변화시켜도 특별한 뭔가를 찾을 수 없었음\n",
    "-> 특별하게 많이 타는 곳이 있는지 알아보자"
   ]
  },
  {
   "cell_type": "code",
   "execution_count": null,
   "metadata": {
    "collapsed": true
   },
   "outputs": [],
   "source": []
  }
 ],
 "metadata": {
  "kernelspec": {
   "display_name": "Python 3",
   "language": "python",
   "name": "python3"
  },
  "language_info": {
   "codemirror_mode": {
    "name": "ipython",
    "version": 3
   },
   "file_extension": ".py",
   "mimetype": "text/x-python",
   "name": "python",
   "nbconvert_exporter": "python",
   "pygments_lexer": "ipython3",
   "version": "3.6.3"
  }
 },
 "nbformat": 4,
 "nbformat_minor": 2
}
