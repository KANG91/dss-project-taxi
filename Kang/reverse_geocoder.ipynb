{
 "cells": [
  {
   "cell_type": "code",
   "execution_count": 1,
   "metadata": {},
   "outputs": [
    {
     "name": "stderr",
     "output_type": "stream",
     "text": [
      "C:\\Users\\ledes\\Anaconda3\\lib\\site-packages\\statsmodels\\compat\\pandas.py:56: FutureWarning: The pandas.core.datetools module is deprecated and will be removed in a future version. Please use the pandas.tseries module instead.\n",
      "  from pandas.core import datetools\n"
     ]
    }
   ],
   "source": [
    "import numpy as np\n",
    "import scipy as sp\n",
    "import sklearn as sk\n",
    "import matplotlib as mpl\n",
    "mpl.use('Agg')\n",
    "import matplotlib.pylab as plt\n",
    "from mpl_toolkits.mplot3d import Axes3D\n",
    "%matplotlib inline\n",
    "import seaborn as sns\n",
    "import statsmodels as sm\n",
    "import statsmodels.api as sm\n",
    "import pandas as pd\n",
    "from patsy import dmatrix"
   ]
  },
  {
   "cell_type": "code",
   "execution_count": 2,
   "metadata": {
    "collapsed": true
   },
   "outputs": [],
   "source": [
    "data = pd.read_csv(\"train.csv\")"
   ]
  },
  {
   "cell_type": "code",
   "execution_count": 3,
   "metadata": {
    "scrolled": true
   },
   "outputs": [],
   "source": [
    "#for문 진행 사항 확인\n",
    "from tqdm import tqdm_notebook\n",
    "#역지오코딩(위도, 경도를 주소로 전환)하기 위한 모듈 geopy 의 클래스 중 'nominatim'\n",
    "#Nominatim 사용 이유 : 개수 제한 문제를 해결할 수 있으므로\n",
    "from geopy.geocoders import Nominatim\n",
    "#역지오코딩 속도 개선을 위한 다중 쓰레드 사용\n",
    "import threading\n",
    "#지속적으로 많은 requests가 날아가면 \"too many requests\" 확인 -> 랜덤 시간 적용\n",
    "import random\n",
    "import time"
   ]
  },
  {
   "cell_type": "code",
   "execution_count": 4,
   "metadata": {
    "collapsed": true
   },
   "outputs": [],
   "source": [
    "#Nominatim 패키지 초기에 생긴 '접근 권한 없음' 에러 해결\n",
    "#에러의 원인은 모르나, 해당 함수를 사용하면 역지오코딩은 성공적으로 가능\n",
    "from geopy.geocoders import Nominatim\n",
    "from urllib.request import Request\n",
    "\n",
    "def get_geolocator():\n",
    "    geolocator = Nominatim()\n",
    "\n",
    "    requester = geolocator.urlopen\n",
    "\n",
    "    def requester_hack(req, **kwargs):\n",
    "        req = Request(url=req, headers=geolocator.headers)\n",
    "        return requester(req, **kwargs)\n",
    "\n",
    "    geolocator.urlopen = requester_hack\n",
    "\n",
    "    return geolocator"
   ]
  },
  {
   "cell_type": "code",
   "execution_count": 5,
   "metadata": {
    "collapsed": true
   },
   "outputs": [],
   "source": [
    "#raw dataset에서 위도 및 경도 데이터 출력\n",
    "pickup_lat = data[\"pickup_latitude\"]\n",
    "pickup_lon = data[\"pickup_longitude\"]    "
   ]
  },
  {
   "cell_type": "code",
   "execution_count": 6,
   "metadata": {
    "collapsed": true
   },
   "outputs": [],
   "source": [
    "#쓰레드 사용 시, 순서가 섞이지 않게 다수의 데이터 프레임 생성 - 추후 합칠 예정\n",
    "post_code = pd.DataFrame(columns = [\"post_code1\"])\n",
    "post_code2 = pd.DataFrame(columns = [\"post_code2\"])\n",
    "post_code3 = pd.DataFrame(columns = [\"post_code3\"])"
   ]
  },
  {
   "cell_type": "code",
   "execution_count": 8,
   "metadata": {
    "collapsed": true
   },
   "outputs": [],
   "source": [
    "def reverse_geocode() :\n",
    "    \n",
    "    for a, b in list(zip(pickup_lat, pickup_lon))[ : 100] :\n",
    "        location = get_geolocator().reverse(str(a) + ',' + str(b), timeout = 10)\n",
    "        address = location.address\n",
    "        print(\"1\")\n",
    "        post_code.loc[len(post_code)] = address[-31 : -26]\n",
    "        if len(post_code) % 10 == 0 :\n",
    "            print(len(post_code))\n",
    "        n = random.randint(1, 3)\n",
    "        time.sleep(n)\n",
    "\n",
    "def reverse_geocode2() :\n",
    "    \n",
    "    for a, b in list(zip(pickup_lat, pickup_lon))[200 : 300] :\n",
    "        location = get_geolocator().reverse(str(a) + ',' + str(b), timeout = 10)\n",
    "        address = location.address\n",
    "        print(\"2\")\n",
    "        post_code2.loc[len(post_code)] = address[-31 : -26]\n",
    "        if len(post_code) % 10 == 0 :\n",
    "            print(len(post_code))\n",
    "        n = random.randint(1, 3)\n",
    "        time.sleep(n)\n",
    "        \n",
    "        \n",
    "def reverse_geocode3() :\n",
    "    \n",
    "    for a, b in list(zip(pickup_lat, pickup_lon))[300 : 400] :\n",
    "        location = get_geolocator().reverse(str(a) + ',' + str(b), timeout = 10)\n",
    "        address = location.address\n",
    "        print(\"3\")\n",
    "        post_code2.loc[len(post_code)] = address[-31 : -26]\n",
    "        if len(post_code) % 10 == 0 :\n",
    "            print(len(post_code))\n",
    "        n = random.randint(1, 3)\n",
    "        time.sleep(n)"
   ]
  },
  {
   "cell_type": "code",
   "execution_count": null,
   "metadata": {},
   "outputs": [],
   "source": [
    "th1 = threading.Thread(target = reverse_geocode)\n",
    "th1.demon  =True\n",
    "th1.start()\n",
    "\n",
    "th2 = threading.Thread(target = reverse_geocode2)\n",
    "th2.demon = True\n",
    "th2.start()\n",
    "\n",
    "th3 = threading.Thread(target = reverse_geocode3)\n",
    "th3.demon = True\n",
    "th3.start()\n"
   ]
  },
  {
   "cell_type": "markdown",
   "metadata": {},
   "source": [
    "## Nominatim error, 다른 클래스로 시도해볼 것."
   ]
  },
  {
   "cell_type": "code",
   "execution_count": null,
   "metadata": {
    "collapsed": true
   },
   "outputs": [],
   "source": [
    "from geopy.geocoders import ArcGIS"
   ]
  },
  {
   "cell_type": "code",
   "execution_count": null,
   "metadata": {
    "collapsed": true
   },
   "outputs": [],
   "source": [
    "geolocator = ArcGIS()"
   ]
  },
  {
   "cell_type": "code",
   "execution_count": null,
   "metadata": {
    "collapsed": true
   },
   "outputs": [],
   "source": [
    "def reverse_geocode() :\n",
    "    for a, b in list(zip(pickup_lat, pickup_lon))[ : 700000] :\n",
    "        location = geolocator.reverse(str(a) + ',' + str(b), timeout = 10)\n",
    "        address = location.address\n",
    "        print(\"1\")\n",
    "        post_code.loc[len(post_code)] = address[-9 : -5]\n",
    "\n",
    "def reverse_geocode2() :\n",
    "    for a, b in list(zip(pickup_lat, pickup_lon))[700000 : ] :\n",
    "        location = geolocator.reverse(str(a) + ',' + str(b), timeout = 10)\n",
    "        address = location.address\n",
    "        print(\"2\")\n",
    "        post_code2.loc[len(post_code)] = address[-9 : -5]\n",
    "\n",
    "th1 = threading.Thread(target = reverse_geocode)\n",
    "th1.start()\n",
    "\n",
    "th2 = threading.Thread(target = reverse_geocode2)\n",
    "th2.start()"
   ]
  },
  {
   "cell_type": "code",
   "execution_count": null,
   "metadata": {
    "collapsed": true
   },
   "outputs": [],
   "source": [
    "from geopy.geocoders import Yandex"
   ]
  },
  {
   "cell_type": "code",
   "execution_count": null,
   "metadata": {
    "collapsed": true
   },
   "outputs": [],
   "source": [
    "geolocator = Yandex()"
   ]
  },
  {
   "cell_type": "code",
   "execution_count": null,
   "metadata": {
    "collapsed": true,
    "scrolled": true
   },
   "outputs": [],
   "source": [
    "data.head()"
   ]
  },
  {
   "cell_type": "code",
   "execution_count": null,
   "metadata": {
    "collapsed": true
   },
   "outputs": [],
   "source": [
    "geolocator.reverse([40.76793, -73.982155 ])"
   ]
  }
 ],
 "metadata": {
  "kernelspec": {
   "display_name": "Python 3",
   "language": "python",
   "name": "python3"
  },
  "language_info": {
   "codemirror_mode": {
    "name": "ipython",
    "version": 3
   },
   "file_extension": ".py",
   "mimetype": "text/x-python",
   "name": "python",
   "nbconvert_exporter": "python",
   "pygments_lexer": "ipython3",
   "version": "3.6.3"
  }
 },
 "nbformat": 4,
 "nbformat_minor": 2
}
