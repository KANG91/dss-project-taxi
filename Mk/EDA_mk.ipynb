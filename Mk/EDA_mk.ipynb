{
 "cells": [
  {
   "cell_type": "markdown",
   "metadata": {},
   "source": [
    "## EDA_mk"
   ]
  },
  {
   "cell_type": "markdown",
   "metadata": {},
   "source": [
    "---"
   ]
  },
  {
   "cell_type": "code",
   "execution_count": 1,
   "metadata": {
    "collapsed": true
   },
   "outputs": [],
   "source": [
    "%matplotlib inline\n",
    "%config InlineBackend.figure_formats = {'png', 'retina'}\n",
    "from ipyleaflet import *\n",
    "import time\n",
    "sns.set()"
   ]
  },
  {
   "cell_type": "code",
   "execution_count": 2,
   "metadata": {
    "collapsed": true
   },
   "outputs": [],
   "source": [
    "taxi = pd.read_csv('train.csv')"
   ]
  },
  {
   "cell_type": "markdown",
   "metadata": {},
   "source": [
    "#### 좌표 묶기, 나누기"
   ]
  },
  {
   "cell_type": "code",
   "execution_count": 3,
   "metadata": {
    "collapsed": true
   },
   "outputs": [],
   "source": [
    "taxi['pickup'] = list(zip(taxi['pickup_latitude'], taxi['pickup_longitude']))"
   ]
  },
  {
   "cell_type": "code",
   "execution_count": 4,
   "metadata": {
    "collapsed": true
   },
   "outputs": [],
   "source": [
    "taxi['dropoff'] = list(zip(taxi['dropoff_latitude'], taxi['pickup_longitude']))"
   ]
  },
  {
   "cell_type": "code",
   "execution_count": 5,
   "metadata": {},
   "outputs": [],
   "source": [
    "taxi[['pickup_date', 'pickup_time']] = taxi.pickup_datetime.str.split(expand=True)"
   ]
  },
  {
   "cell_type": "code",
   "execution_count": 6,
   "metadata": {
    "collapsed": true
   },
   "outputs": [],
   "source": [
    "taxi[['dropoff_date', 'dropoff_time']] = taxi.dropoff_datetime.str.split(expand=True)"
   ]
  },
  {
   "cell_type": "code",
   "execution_count": 7,
   "metadata": {},
   "outputs": [
    {
     "data": {
      "text/html": [
       "<div>\n",
       "<style>\n",
       "    .dataframe thead tr:only-child th {\n",
       "        text-align: right;\n",
       "    }\n",
       "\n",
       "    .dataframe thead th {\n",
       "        text-align: left;\n",
       "    }\n",
       "\n",
       "    .dataframe tbody tr th {\n",
       "        vertical-align: top;\n",
       "    }\n",
       "</style>\n",
       "<table border=\"1\" class=\"dataframe\">\n",
       "  <thead>\n",
       "    <tr style=\"text-align: right;\">\n",
       "      <th></th>\n",
       "      <th>id</th>\n",
       "      <th>vendor_id</th>\n",
       "      <th>pickup_datetime</th>\n",
       "      <th>dropoff_datetime</th>\n",
       "      <th>passenger_count</th>\n",
       "      <th>pickup_longitude</th>\n",
       "      <th>pickup_latitude</th>\n",
       "      <th>dropoff_longitude</th>\n",
       "      <th>dropoff_latitude</th>\n",
       "      <th>store_and_fwd_flag</th>\n",
       "      <th>trip_duration</th>\n",
       "      <th>pickup</th>\n",
       "      <th>dropoff</th>\n",
       "      <th>pickup_date</th>\n",
       "      <th>pickup_time</th>\n",
       "      <th>dropoff_date</th>\n",
       "      <th>dropoff_time</th>\n",
       "    </tr>\n",
       "  </thead>\n",
       "  <tbody>\n",
       "    <tr>\n",
       "      <th>1458639</th>\n",
       "      <td>id2376096</td>\n",
       "      <td>2</td>\n",
       "      <td>2016-04-08 13:31:04</td>\n",
       "      <td>2016-04-08 13:44:02</td>\n",
       "      <td>4</td>\n",
       "      <td>-73.982201</td>\n",
       "      <td>40.745522</td>\n",
       "      <td>-73.994911</td>\n",
       "      <td>40.740170</td>\n",
       "      <td>N</td>\n",
       "      <td>778</td>\n",
       "      <td>(40.7455215454, -73.9822006226)</td>\n",
       "      <td>(40.7401695251, -73.9822006226)</td>\n",
       "      <td>2016-04-08</td>\n",
       "      <td>13:31:04</td>\n",
       "      <td>2016-04-08</td>\n",
       "      <td>13:44:02</td>\n",
       "    </tr>\n",
       "    <tr>\n",
       "      <th>1458640</th>\n",
       "      <td>id1049543</td>\n",
       "      <td>1</td>\n",
       "      <td>2016-01-10 07:35:15</td>\n",
       "      <td>2016-01-10 07:46:10</td>\n",
       "      <td>1</td>\n",
       "      <td>-74.000946</td>\n",
       "      <td>40.747379</td>\n",
       "      <td>-73.970184</td>\n",
       "      <td>40.796547</td>\n",
       "      <td>N</td>\n",
       "      <td>655</td>\n",
       "      <td>(40.747379303, -74.0009460449)</td>\n",
       "      <td>(40.796546936, -74.0009460449)</td>\n",
       "      <td>2016-01-10</td>\n",
       "      <td>07:35:15</td>\n",
       "      <td>2016-01-10</td>\n",
       "      <td>07:46:10</td>\n",
       "    </tr>\n",
       "    <tr>\n",
       "      <th>1458641</th>\n",
       "      <td>id2304944</td>\n",
       "      <td>2</td>\n",
       "      <td>2016-04-22 06:57:41</td>\n",
       "      <td>2016-04-22 07:10:25</td>\n",
       "      <td>1</td>\n",
       "      <td>-73.959129</td>\n",
       "      <td>40.768799</td>\n",
       "      <td>-74.004433</td>\n",
       "      <td>40.707371</td>\n",
       "      <td>N</td>\n",
       "      <td>764</td>\n",
       "      <td>(40.7687988281, -73.9591293335)</td>\n",
       "      <td>(40.7073707581, -73.9591293335)</td>\n",
       "      <td>2016-04-22</td>\n",
       "      <td>06:57:41</td>\n",
       "      <td>2016-04-22</td>\n",
       "      <td>07:10:25</td>\n",
       "    </tr>\n",
       "    <tr>\n",
       "      <th>1458642</th>\n",
       "      <td>id2714485</td>\n",
       "      <td>1</td>\n",
       "      <td>2016-01-05 15:56:26</td>\n",
       "      <td>2016-01-05 16:02:39</td>\n",
       "      <td>1</td>\n",
       "      <td>-73.982079</td>\n",
       "      <td>40.749062</td>\n",
       "      <td>-73.974632</td>\n",
       "      <td>40.757107</td>\n",
       "      <td>N</td>\n",
       "      <td>373</td>\n",
       "      <td>(40.7490615845, -73.9820785522)</td>\n",
       "      <td>(40.757106781, -73.9820785522)</td>\n",
       "      <td>2016-01-05</td>\n",
       "      <td>15:56:26</td>\n",
       "      <td>2016-01-05</td>\n",
       "      <td>16:02:39</td>\n",
       "    </tr>\n",
       "    <tr>\n",
       "      <th>1458643</th>\n",
       "      <td>id1209952</td>\n",
       "      <td>1</td>\n",
       "      <td>2016-04-05 14:44:25</td>\n",
       "      <td>2016-04-05 14:47:43</td>\n",
       "      <td>1</td>\n",
       "      <td>-73.979538</td>\n",
       "      <td>40.781750</td>\n",
       "      <td>-73.972809</td>\n",
       "      <td>40.790585</td>\n",
       "      <td>N</td>\n",
       "      <td>198</td>\n",
       "      <td>(40.7817497253, -73.9795379639)</td>\n",
       "      <td>(40.7905845642, -73.9795379639)</td>\n",
       "      <td>2016-04-05</td>\n",
       "      <td>14:44:25</td>\n",
       "      <td>2016-04-05</td>\n",
       "      <td>14:47:43</td>\n",
       "    </tr>\n",
       "  </tbody>\n",
       "</table>\n",
       "</div>"
      ],
      "text/plain": [
       "                id  vendor_id      pickup_datetime     dropoff_datetime  \\\n",
       "1458639  id2376096          2  2016-04-08 13:31:04  2016-04-08 13:44:02   \n",
       "1458640  id1049543          1  2016-01-10 07:35:15  2016-01-10 07:46:10   \n",
       "1458641  id2304944          2  2016-04-22 06:57:41  2016-04-22 07:10:25   \n",
       "1458642  id2714485          1  2016-01-05 15:56:26  2016-01-05 16:02:39   \n",
       "1458643  id1209952          1  2016-04-05 14:44:25  2016-04-05 14:47:43   \n",
       "\n",
       "         passenger_count  pickup_longitude  pickup_latitude  \\\n",
       "1458639                4        -73.982201        40.745522   \n",
       "1458640                1        -74.000946        40.747379   \n",
       "1458641                1        -73.959129        40.768799   \n",
       "1458642                1        -73.982079        40.749062   \n",
       "1458643                1        -73.979538        40.781750   \n",
       "\n",
       "         dropoff_longitude  dropoff_latitude store_and_fwd_flag  \\\n",
       "1458639         -73.994911         40.740170                  N   \n",
       "1458640         -73.970184         40.796547                  N   \n",
       "1458641         -74.004433         40.707371                  N   \n",
       "1458642         -73.974632         40.757107                  N   \n",
       "1458643         -73.972809         40.790585                  N   \n",
       "\n",
       "         trip_duration                           pickup  \\\n",
       "1458639            778  (40.7455215454, -73.9822006226)   \n",
       "1458640            655   (40.747379303, -74.0009460449)   \n",
       "1458641            764  (40.7687988281, -73.9591293335)   \n",
       "1458642            373  (40.7490615845, -73.9820785522)   \n",
       "1458643            198  (40.7817497253, -73.9795379639)   \n",
       "\n",
       "                                 dropoff pickup_date pickup_time dropoff_date  \\\n",
       "1458639  (40.7401695251, -73.9822006226)  2016-04-08    13:31:04   2016-04-08   \n",
       "1458640   (40.796546936, -74.0009460449)  2016-01-10    07:35:15   2016-01-10   \n",
       "1458641  (40.7073707581, -73.9591293335)  2016-04-22    06:57:41   2016-04-22   \n",
       "1458642   (40.757106781, -73.9820785522)  2016-01-05    15:56:26   2016-01-05   \n",
       "1458643  (40.7905845642, -73.9795379639)  2016-04-05    14:44:25   2016-04-05   \n",
       "\n",
       "        dropoff_time  \n",
       "1458639     13:44:02  \n",
       "1458640     07:46:10  \n",
       "1458641     07:10:25  \n",
       "1458642     16:02:39  \n",
       "1458643     14:47:43  "
      ]
     },
     "execution_count": 7,
     "metadata": {},
     "output_type": "execute_result"
    }
   ],
   "source": [
    "taxi.tail()"
   ]
  },
  {
   "cell_type": "markdown",
   "metadata": {},
   "source": [
    "---"
   ]
  },
  {
   "cell_type": "markdown",
   "metadata": {},
   "source": [
    "### dist: direct distance"
   ]
  },
  {
   "cell_type": "code",
   "execution_count": 8,
   "metadata": {
    "collapsed": true
   },
   "outputs": [],
   "source": [
    "def haversine_np(lon1, lat1, lon2, lat2):\n",
    "    \"\"\"\n",
    "    Calculate the great circle distance between two points\n",
    "    on the earth (specified in decimal degrees)\n",
    "\n",
    "    All args must be of equal length.    \n",
    "\n",
    "    \"\"\"\n",
    "    lon1, lat1, lon2, lat2 = map(np.radians, [lon1, lat1, lon2, lat2])\n",
    "\n",
    "    dlon = lon2 - lon1\n",
    "    dlat = lat2 - lat1\n",
    "\n",
    "    a = np.sin(dlat/2.0)**2 + np.cos(lat1) * np.cos(lat2) * np.sin(dlon/2.0)**2\n",
    "\n",
    "    c = 2 * np.arcsin(np.sqrt(a))\n",
    "    km = 6367 * c\n",
    "    return km"
   ]
  },
  {
   "cell_type": "code",
   "execution_count": 9,
   "metadata": {
    "collapsed": true
   },
   "outputs": [],
   "source": [
    "taxi['dist'] = \\\n",
    "    haversine_np(taxi['pickup_longitude'], taxi['pickup_latitude'],\n",
    "                 taxi['dropoff_longitude'], taxi['dropoff_latitude'])"
   ]
  },
  {
   "cell_type": "code",
   "execution_count": 10,
   "metadata": {},
   "outputs": [
    {
     "data": {
      "text/plain": [
       "1458634    5.255687\n",
       "1458635    0.616594\n",
       "1458636    0.930065\n",
       "1458637    3.535334\n",
       "1458638    2.315993\n",
       "1458639    1.224311\n",
       "1458640    6.046037\n",
       "1458641    7.819693\n",
       "1458642    1.091878\n",
       "1458643    1.133330\n",
       "Name: dist, dtype: float64"
      ]
     },
     "execution_count": 10,
     "metadata": {},
     "output_type": "execute_result"
    }
   ],
   "source": [
    "taxi['dist'].tail(10)"
   ]
  },
  {
   "cell_type": "markdown",
   "metadata": {},
   "source": [
    "## change datetype to calculate"
   ]
  },
  {
   "cell_type": "code",
   "execution_count": 11,
   "metadata": {
    "collapsed": true
   },
   "outputs": [],
   "source": [
    "taxi['pickup_datetime'] = taxi['pickup_datetime'].astype('datetime64[ns]')\n",
    "taxi['dropoff_datetime'] = taxi['dropoff_datetime'].astype('datetime64[ns]')\n",
    "taxi['s_duration'] = (taxi['dropoff_datetime'] - taxi['pickup_datetime']).astype('timedelta64[ns]')"
   ]
  },
  {
   "cell_type": "code",
   "execution_count": 12,
   "metadata": {},
   "outputs": [
    {
     "data": {
      "text/plain": [
       "1458639   00:12:58\n",
       "1458640   00:10:55\n",
       "1458641   00:12:44\n",
       "1458642   00:06:13\n",
       "1458643   00:03:18\n",
       "Name: s_duration, dtype: timedelta64[ns]"
      ]
     },
     "execution_count": 12,
     "metadata": {},
     "output_type": "execute_result"
    }
   ],
   "source": [
    "taxi['s_duration'].tail()"
   ]
  },
  {
   "cell_type": "code",
   "execution_count": 13,
   "metadata": {},
   "outputs": [
    {
     "data": {
      "text/plain": [
       "1458639    778\n",
       "1458640    655\n",
       "1458641    764\n",
       "1458642    373\n",
       "1458643    198\n",
       "Name: trip_duration, dtype: int64"
      ]
     },
     "execution_count": 13,
     "metadata": {},
     "output_type": "execute_result"
    }
   ],
   "source": [
    "taxi['trip_duration'].tail()"
   ]
  },
  {
   "cell_type": "code",
   "execution_count": 14,
   "metadata": {},
   "outputs": [
    {
     "data": {
      "text/plain": [
       "1458639    778.0\n",
       "1458640    655.0\n",
       "1458641    764.0\n",
       "1458642    373.0\n",
       "1458643    198.0\n",
       "Name: s_duration, dtype: float64"
      ]
     },
     "execution_count": 14,
     "metadata": {},
     "output_type": "execute_result"
    }
   ],
   "source": [
    "taxi['s_duration'] = taxi['s_duration'].dt.total_seconds()\n",
    "taxi['s_duration'].tail()"
   ]
  },
  {
   "cell_type": "code",
   "execution_count": 15,
   "metadata": {},
   "outputs": [
    {
     "data": {
      "text/plain": [
       "1458639    0.0\n",
       "1458640    0.0\n",
       "1458641    0.0\n",
       "1458642    0.0\n",
       "1458643    0.0\n",
       "Name: Duration_gap, dtype: float64"
      ]
     },
     "execution_count": 15,
     "metadata": {},
     "output_type": "execute_result"
    }
   ],
   "source": [
    "taxi['Duration_gap'] = (taxi['s_duration'] - taxi['trip_duration']).abs()\n",
    "taxi['Duration_gap'].tail()"
   ]
  },
  {
   "cell_type": "markdown",
   "metadata": {},
   "source": [
    "## check Duration_gap\n",
    "- between calculated and served"
   ]
  },
  {
   "cell_type": "code",
   "execution_count": 16,
   "metadata": {},
   "outputs": [
    {
     "data": {
      "text/plain": [
       "0"
      ]
     },
     "execution_count": 16,
     "metadata": {},
     "output_type": "execute_result"
    }
   ],
   "source": [
    "len(taxi['Duration_gap'][taxi['Duration_gap'] > 60])\n",
    "# expect ) Trip_duration = dropoff time - pickup time"
   ]
  },
  {
   "cell_type": "code",
   "execution_count": 17,
   "metadata": {},
   "outputs": [
    {
     "name": "stdout",
     "output_type": "stream",
     "text": [
      "Series([], Name: Duration_gap, dtype: float64)\n"
     ]
    }
   ],
   "source": [
    "print(taxi['Duration_gap'][taxi['Duration_gap'] > 5])\n",
    "# expect ) Trip_duration = dropoff time - pickup time"
   ]
  },
  {
   "cell_type": "code",
   "execution_count": 18,
   "metadata": {},
   "outputs": [
    {
     "data": {
      "text/plain": [
       "1458639    0.0\n",
       "1458640    0.0\n",
       "1458641    0.0\n",
       "1458642    0.0\n",
       "1458643    0.0\n",
       "Name: Duration_gap, dtype: float64"
      ]
     },
     "execution_count": 18,
     "metadata": {},
     "output_type": "execute_result"
    }
   ],
   "source": [
    "taxi['Duration_gap'].tail()"
   ]
  },
  {
   "cell_type": "markdown",
   "metadata": {},
   "source": [
    "---"
   ]
  },
  {
   "cell_type": "markdown",
   "metadata": {},
   "source": [
    "# check outlier"
   ]
  },
  {
   "cell_type": "markdown",
   "metadata": {},
   "source": [
    "### trip_duration"
   ]
  },
  {
   "cell_type": "code",
   "execution_count": 19,
   "metadata": {},
   "outputs": [
    {
     "data": {
      "image/png": "[encoded data removed]",
      "text/plain": [
       "<matplotlib.figure.Figure at 0x7f56eeb06c18>"
      ]
     },
     "metadata": {
      "image/png": {
       "height": 248,
       "width": 406
      }
     },
     "output_type": "display_data"
    }
   ],
   "source": [
    "plt.scatter(taxi['trip_duration'], taxi.index)\n",
    "plt.show() # 4 놈 잡는다."
   ]
  },
  {
   "cell_type": "code",
   "execution_count": 20,
   "metadata": {},
   "outputs": [
    {
     "data": {
      "text/plain": [
       "220485"
      ]
     },
     "execution_count": 20,
     "metadata": {},
     "output_type": "execute_result"
    }
   ],
   "source": [
    "len(taxi['trip_duration'][taxi['trip_duration'] < 300]) #5분 이하"
   ]
  },
  {
   "cell_type": "markdown",
   "metadata": {},
   "source": [
    "가설1: 1분 이하 탑승객은 오작동(기계 조작 실수 등)이 아닐까?\n",
    "- 어느정도의 기간이 적당?\n",
    "- 1-2: 잘못누른거면 거리의 이동이 없을 수도?"
   ]
  },
  {
   "cell_type": "code",
   "execution_count": 21,
   "metadata": {},
   "outputs": [
    {
     "data": {
      "text/plain": [
       "8595"
      ]
     },
     "execution_count": 21,
     "metadata": {},
     "output_type": "execute_result"
    }
   ],
   "source": [
    "len(taxi['trip_duration'][taxi['trip_duration'] < 60]) #1분 이하"
   ]
  },
  {
   "cell_type": "code",
   "execution_count": 22,
   "metadata": {},
   "outputs": [
    {
     "data": {
      "text/plain": [
       "1984"
      ]
     },
     "execution_count": 22,
     "metadata": {},
     "output_type": "execute_result"
    }
   ],
   "source": [
    "len(taxi['trip_duration'][taxi['trip_duration'] < 10]) # 10초 이하 탑승"
   ]
  },
  {
   "cell_type": "markdown",
   "metadata": {},
   "source": [
    "---"
   ]
  },
  {
   "cell_type": "code",
   "execution_count": 23,
   "metadata": {},
   "outputs": [
    {
     "data": {
      "text/plain": [
       "651601"
      ]
     },
     "execution_count": 23,
     "metadata": {},
     "output_type": "execute_result"
    }
   ],
   "source": [
    "len(taxi['trip_duration'][taxi['trip_duration'] < 600]) #10분 이하 탑승"
   ]
  },
  {
   "cell_type": "code",
   "execution_count": 24,
   "metadata": {},
   "outputs": [
    {
     "data": {
      "text/plain": [
       "1446310"
      ]
     },
     "execution_count": 24,
     "metadata": {},
     "output_type": "execute_result"
    }
   ],
   "source": [
    "less_h = len(taxi['trip_duration'][taxi['trip_duration'] < 3600]) #60분 이하 탑승\n",
    "less_h"
   ]
  },
  {
   "cell_type": "code",
   "execution_count": 25,
   "metadata": {},
   "outputs": [
    {
     "data": {
      "text/plain": [
       "10081"
      ]
     },
     "execution_count": 25,
     "metadata": {},
     "output_type": "execute_result"
    }
   ],
   "source": [
    "less_2h= len(taxi['trip_duration'][taxi['trip_duration'] < 7200]) - less_h \n",
    "less_2h #60분 이상 120분 이하 탑승"
   ]
  },
  {
   "cell_type": "code",
   "execution_count": 26,
   "metadata": {},
   "outputs": [
    {
     "data": {
      "text/plain": [
       "141"
      ]
     },
     "execution_count": 26,
     "metadata": {},
     "output_type": "execute_result"
    }
   ],
   "source": [
    "less_3h = len(taxi['trip_duration'][taxi['trip_duration'] < 10800]) - less_2h - less_h\n",
    "less_3h  #120 - 180분 탑승"
   ]
  },
  {
   "cell_type": "markdown",
   "metadata": {},
   "source": [
    "### got the outlier"
   ]
  },
  {
   "cell_type": "code",
   "execution_count": 27,
   "metadata": {},
   "outputs": [
    {
     "data": {
      "text/plain": [
       "4"
      ]
     },
     "execution_count": 27,
     "metadata": {},
     "output_type": "execute_result"
    }
   ],
   "source": [
    "more_day= len(taxi['trip_duration'][taxi['trip_duration'] > 86400])\n",
    "more_day  #24시간 이상 탑승"
   ]
  },
  {
   "cell_type": "code",
   "execution_count": 28,
   "metadata": {},
   "outputs": [
    {
     "data": {
      "text/plain": [
       "1989"
      ]
     },
     "execution_count": 28,
     "metadata": {},
     "output_type": "execute_result"
    }
   ],
   "source": [
    "half_day= len(taxi['trip_duration'][taxi['trip_duration'] > 43200]) - more_day\n",
    "half_day  #12시간 이상 탑승"
   ]
  },
  {
   "cell_type": "code",
   "execution_count": 29,
   "metadata": {},
   "outputs": [
    {
     "data": {
      "text/html": [
       "<div>\n",
       "<style>\n",
       "    .dataframe thead tr:only-child th {\n",
       "        text-align: right;\n",
       "    }\n",
       "\n",
       "    .dataframe thead th {\n",
       "        text-align: left;\n",
       "    }\n",
       "\n",
       "    .dataframe tbody tr th {\n",
       "        vertical-align: top;\n",
       "    }\n",
       "</style>\n",
       "<table border=\"1\" class=\"dataframe\">\n",
       "  <thead>\n",
       "    <tr style=\"text-align: right;\">\n",
       "      <th></th>\n",
       "      <th>id</th>\n",
       "      <th>vendor_id</th>\n",
       "      <th>pickup_datetime</th>\n",
       "      <th>dropoff_datetime</th>\n",
       "      <th>passenger_count</th>\n",
       "      <th>pickup_longitude</th>\n",
       "      <th>pickup_latitude</th>\n",
       "      <th>dropoff_longitude</th>\n",
       "      <th>dropoff_latitude</th>\n",
       "      <th>store_and_fwd_flag</th>\n",
       "      <th>trip_duration</th>\n",
       "      <th>pickup</th>\n",
       "      <th>dropoff</th>\n",
       "      <th>pickup_date</th>\n",
       "      <th>pickup_time</th>\n",
       "      <th>dropoff_date</th>\n",
       "      <th>dropoff_time</th>\n",
       "      <th>dist</th>\n",
       "      <th>s_duration</th>\n",
       "      <th>Duration_gap</th>\n",
       "    </tr>\n",
       "  </thead>\n",
       "  <tbody>\n",
       "    <tr>\n",
       "      <th>1458639</th>\n",
       "      <td>id2376096</td>\n",
       "      <td>2</td>\n",
       "      <td>2016-04-08 13:31:04</td>\n",
       "      <td>2016-04-08 13:44:02</td>\n",
       "      <td>4</td>\n",
       "      <td>-73.982201</td>\n",
       "      <td>40.745522</td>\n",
       "      <td>-73.994911</td>\n",
       "      <td>40.740170</td>\n",
       "      <td>N</td>\n",
       "      <td>778</td>\n",
       "      <td>(40.7455215454, -73.9822006226)</td>\n",
       "      <td>(40.7401695251, -73.9822006226)</td>\n",
       "      <td>2016-04-08</td>\n",
       "      <td>13:31:04</td>\n",
       "      <td>2016-04-08</td>\n",
       "      <td>13:44:02</td>\n",
       "      <td>1.224311</td>\n",
       "      <td>778.0</td>\n",
       "      <td>0.0</td>\n",
       "    </tr>\n",
       "    <tr>\n",
       "      <th>1458640</th>\n",
       "      <td>id1049543</td>\n",
       "      <td>1</td>\n",
       "      <td>2016-01-10 07:35:15</td>\n",
       "      <td>2016-01-10 07:46:10</td>\n",
       "      <td>1</td>\n",
       "      <td>-74.000946</td>\n",
       "      <td>40.747379</td>\n",
       "      <td>-73.970184</td>\n",
       "      <td>40.796547</td>\n",
       "      <td>N</td>\n",
       "      <td>655</td>\n",
       "      <td>(40.747379303, -74.0009460449)</td>\n",
       "      <td>(40.796546936, -74.0009460449)</td>\n",
       "      <td>2016-01-10</td>\n",
       "      <td>07:35:15</td>\n",
       "      <td>2016-01-10</td>\n",
       "      <td>07:46:10</td>\n",
       "      <td>6.046037</td>\n",
       "      <td>655.0</td>\n",
       "      <td>0.0</td>\n",
       "    </tr>\n",
       "    <tr>\n",
       "      <th>1458641</th>\n",
       "      <td>id2304944</td>\n",
       "      <td>2</td>\n",
       "      <td>2016-04-22 06:57:41</td>\n",
       "      <td>2016-04-22 07:10:25</td>\n",
       "      <td>1</td>\n",
       "      <td>-73.959129</td>\n",
       "      <td>40.768799</td>\n",
       "      <td>-74.004433</td>\n",
       "      <td>40.707371</td>\n",
       "      <td>N</td>\n",
       "      <td>764</td>\n",
       "      <td>(40.7687988281, -73.9591293335)</td>\n",
       "      <td>(40.7073707581, -73.9591293335)</td>\n",
       "      <td>2016-04-22</td>\n",
       "      <td>06:57:41</td>\n",
       "      <td>2016-04-22</td>\n",
       "      <td>07:10:25</td>\n",
       "      <td>7.819693</td>\n",
       "      <td>764.0</td>\n",
       "      <td>0.0</td>\n",
       "    </tr>\n",
       "    <tr>\n",
       "      <th>1458642</th>\n",
       "      <td>id2714485</td>\n",
       "      <td>1</td>\n",
       "      <td>2016-01-05 15:56:26</td>\n",
       "      <td>2016-01-05 16:02:39</td>\n",
       "      <td>1</td>\n",
       "      <td>-73.982079</td>\n",
       "      <td>40.749062</td>\n",
       "      <td>-73.974632</td>\n",
       "      <td>40.757107</td>\n",
       "      <td>N</td>\n",
       "      <td>373</td>\n",
       "      <td>(40.7490615845, -73.9820785522)</td>\n",
       "      <td>(40.757106781, -73.9820785522)</td>\n",
       "      <td>2016-01-05</td>\n",
       "      <td>15:56:26</td>\n",
       "      <td>2016-01-05</td>\n",
       "      <td>16:02:39</td>\n",
       "      <td>1.091878</td>\n",
       "      <td>373.0</td>\n",
       "      <td>0.0</td>\n",
       "    </tr>\n",
       "    <tr>\n",
       "      <th>1458643</th>\n",
       "      <td>id1209952</td>\n",
       "      <td>1</td>\n",
       "      <td>2016-04-05 14:44:25</td>\n",
       "      <td>2016-04-05 14:47:43</td>\n",
       "      <td>1</td>\n",
       "      <td>-73.979538</td>\n",
       "      <td>40.781750</td>\n",
       "      <td>-73.972809</td>\n",
       "      <td>40.790585</td>\n",
       "      <td>N</td>\n",
       "      <td>198</td>\n",
       "      <td>(40.7817497253, -73.9795379639)</td>\n",
       "      <td>(40.7905845642, -73.9795379639)</td>\n",
       "      <td>2016-04-05</td>\n",
       "      <td>14:44:25</td>\n",
       "      <td>2016-04-05</td>\n",
       "      <td>14:47:43</td>\n",
       "      <td>1.133330</td>\n",
       "      <td>198.0</td>\n",
       "      <td>0.0</td>\n",
       "    </tr>\n",
       "  </tbody>\n",
       "</table>\n",
       "</div>"
      ],
      "text/plain": [
       "                id  vendor_id     pickup_datetime    dropoff_datetime  \\\n",
       "1458639  id2376096          2 2016-04-08 13:31:04 2016-04-08 13:44:02   \n",
       "1458640  id1049543          1 2016-01-10 07:35:15 2016-01-10 07:46:10   \n",
       "1458641  id2304944          2 2016-04-22 06:57:41 2016-04-22 07:10:25   \n",
       "1458642  id2714485          1 2016-01-05 15:56:26 2016-01-05 16:02:39   \n",
       "1458643  id1209952          1 2016-04-05 14:44:25 2016-04-05 14:47:43   \n",
       "\n",
       "         passenger_count  pickup_longitude  pickup_latitude  \\\n",
       "1458639                4        -73.982201        40.745522   \n",
       "1458640                1        -74.000946        40.747379   \n",
       "1458641                1        -73.959129        40.768799   \n",
       "1458642                1        -73.982079        40.749062   \n",
       "1458643                1        -73.979538        40.781750   \n",
       "\n",
       "         dropoff_longitude  dropoff_latitude store_and_fwd_flag  \\\n",
       "1458639         -73.994911         40.740170                  N   \n",
       "1458640         -73.970184         40.796547                  N   \n",
       "1458641         -74.004433         40.707371                  N   \n",
       "1458642         -73.974632         40.757107                  N   \n",
       "1458643         -73.972809         40.790585                  N   \n",
       "\n",
       "         trip_duration                           pickup  \\\n",
       "1458639            778  (40.7455215454, -73.9822006226)   \n",
       "1458640            655   (40.747379303, -74.0009460449)   \n",
       "1458641            764  (40.7687988281, -73.9591293335)   \n",
       "1458642            373  (40.7490615845, -73.9820785522)   \n",
       "1458643            198  (40.7817497253, -73.9795379639)   \n",
       "\n",
       "                                 dropoff pickup_date pickup_time dropoff_date  \\\n",
       "1458639  (40.7401695251, -73.9822006226)  2016-04-08    13:31:04   2016-04-08   \n",
       "1458640   (40.796546936, -74.0009460449)  2016-01-10    07:35:15   2016-01-10   \n",
       "1458641  (40.7073707581, -73.9591293335)  2016-04-22    06:57:41   2016-04-22   \n",
       "1458642   (40.757106781, -73.9820785522)  2016-01-05    15:56:26   2016-01-05   \n",
       "1458643  (40.7905845642, -73.9795379639)  2016-04-05    14:44:25   2016-04-05   \n",
       "\n",
       "        dropoff_time      dist  s_duration  Duration_gap  \n",
       "1458639     13:44:02  1.224311       778.0           0.0  \n",
       "1458640     07:46:10  6.046037       655.0           0.0  \n",
       "1458641     07:10:25  7.819693       764.0           0.0  \n",
       "1458642     16:02:39  1.091878       373.0           0.0  \n",
       "1458643     14:47:43  1.133330       198.0           0.0  "
      ]
     },
     "execution_count": 29,
     "metadata": {},
     "output_type": "execute_result"
    }
   ],
   "source": [
    "taxi.tail()"
   ]
  },
  {
   "cell_type": "code",
   "execution_count": 30,
   "metadata": {},
   "outputs": [
    {
     "data": {
      "text/html": [
       "<div>\n",
       "<style>\n",
       "    .dataframe thead tr:only-child th {\n",
       "        text-align: right;\n",
       "    }\n",
       "\n",
       "    .dataframe thead th {\n",
       "        text-align: left;\n",
       "    }\n",
       "\n",
       "    .dataframe tbody tr th {\n",
       "        vertical-align: top;\n",
       "    }\n",
       "</style>\n",
       "<table border=\"1\" class=\"dataframe\">\n",
       "  <thead>\n",
       "    <tr style=\"text-align: right;\">\n",
       "      <th></th>\n",
       "      <th>id</th>\n",
       "      <th>vendor_id</th>\n",
       "      <th>pickup_datetime</th>\n",
       "      <th>dropoff_datetime</th>\n",
       "      <th>passenger_count</th>\n",
       "      <th>pickup_longitude</th>\n",
       "      <th>pickup_latitude</th>\n",
       "      <th>dropoff_longitude</th>\n",
       "      <th>dropoff_latitude</th>\n",
       "      <th>store_and_fwd_flag</th>\n",
       "      <th>trip_duration</th>\n",
       "      <th>pickup</th>\n",
       "      <th>dropoff</th>\n",
       "      <th>pickup_date</th>\n",
       "      <th>pickup_time</th>\n",
       "      <th>dropoff_date</th>\n",
       "      <th>dropoff_time</th>\n",
       "      <th>dist</th>\n",
       "      <th>s_duration</th>\n",
       "      <th>Duration_gap</th>\n",
       "    </tr>\n",
       "  </thead>\n",
       "  <tbody>\n",
       "    <tr>\n",
       "      <th>1458635</th>\n",
       "      <td>id2376096</td>\n",
       "      <td>2</td>\n",
       "      <td>2016-04-08 13:31:04</td>\n",
       "      <td>2016-04-08 13:44:02</td>\n",
       "      <td>4</td>\n",
       "      <td>-73.982201</td>\n",
       "      <td>40.745522</td>\n",
       "      <td>-73.994911</td>\n",
       "      <td>40.740170</td>\n",
       "      <td>N</td>\n",
       "      <td>778</td>\n",
       "      <td>(40.7455215454, -73.9822006226)</td>\n",
       "      <td>(40.7401695251, -73.9822006226)</td>\n",
       "      <td>2016-04-08</td>\n",
       "      <td>13:31:04</td>\n",
       "      <td>2016-04-08</td>\n",
       "      <td>13:44:02</td>\n",
       "      <td>1.224311</td>\n",
       "      <td>778.0</td>\n",
       "      <td>0.0</td>\n",
       "    </tr>\n",
       "    <tr>\n",
       "      <th>1458636</th>\n",
       "      <td>id1049543</td>\n",
       "      <td>1</td>\n",
       "      <td>2016-01-10 07:35:15</td>\n",
       "      <td>2016-01-10 07:46:10</td>\n",
       "      <td>1</td>\n",
       "      <td>-74.000946</td>\n",
       "      <td>40.747379</td>\n",
       "      <td>-73.970184</td>\n",
       "      <td>40.796547</td>\n",
       "      <td>N</td>\n",
       "      <td>655</td>\n",
       "      <td>(40.747379303, -74.0009460449)</td>\n",
       "      <td>(40.796546936, -74.0009460449)</td>\n",
       "      <td>2016-01-10</td>\n",
       "      <td>07:35:15</td>\n",
       "      <td>2016-01-10</td>\n",
       "      <td>07:46:10</td>\n",
       "      <td>6.046037</td>\n",
       "      <td>655.0</td>\n",
       "      <td>0.0</td>\n",
       "    </tr>\n",
       "    <tr>\n",
       "      <th>1458637</th>\n",
       "      <td>id2304944</td>\n",
       "      <td>2</td>\n",
       "      <td>2016-04-22 06:57:41</td>\n",
       "      <td>2016-04-22 07:10:25</td>\n",
       "      <td>1</td>\n",
       "      <td>-73.959129</td>\n",
       "      <td>40.768799</td>\n",
       "      <td>-74.004433</td>\n",
       "      <td>40.707371</td>\n",
       "      <td>N</td>\n",
       "      <td>764</td>\n",
       "      <td>(40.7687988281, -73.9591293335)</td>\n",
       "      <td>(40.7073707581, -73.9591293335)</td>\n",
       "      <td>2016-04-22</td>\n",
       "      <td>06:57:41</td>\n",
       "      <td>2016-04-22</td>\n",
       "      <td>07:10:25</td>\n",
       "      <td>7.819693</td>\n",
       "      <td>764.0</td>\n",
       "      <td>0.0</td>\n",
       "    </tr>\n",
       "    <tr>\n",
       "      <th>1458638</th>\n",
       "      <td>id2714485</td>\n",
       "      <td>1</td>\n",
       "      <td>2016-01-05 15:56:26</td>\n",
       "      <td>2016-01-05 16:02:39</td>\n",
       "      <td>1</td>\n",
       "      <td>-73.982079</td>\n",
       "      <td>40.749062</td>\n",
       "      <td>-73.974632</td>\n",
       "      <td>40.757107</td>\n",
       "      <td>N</td>\n",
       "      <td>373</td>\n",
       "      <td>(40.7490615845, -73.9820785522)</td>\n",
       "      <td>(40.757106781, -73.9820785522)</td>\n",
       "      <td>2016-01-05</td>\n",
       "      <td>15:56:26</td>\n",
       "      <td>2016-01-05</td>\n",
       "      <td>16:02:39</td>\n",
       "      <td>1.091878</td>\n",
       "      <td>373.0</td>\n",
       "      <td>0.0</td>\n",
       "    </tr>\n",
       "    <tr>\n",
       "      <th>1458639</th>\n",
       "      <td>id1209952</td>\n",
       "      <td>1</td>\n",
       "      <td>2016-04-05 14:44:25</td>\n",
       "      <td>2016-04-05 14:47:43</td>\n",
       "      <td>1</td>\n",
       "      <td>-73.979538</td>\n",
       "      <td>40.781750</td>\n",
       "      <td>-73.972809</td>\n",
       "      <td>40.790585</td>\n",
       "      <td>N</td>\n",
       "      <td>198</td>\n",
       "      <td>(40.7817497253, -73.9795379639)</td>\n",
       "      <td>(40.7905845642, -73.9795379639)</td>\n",
       "      <td>2016-04-05</td>\n",
       "      <td>14:44:25</td>\n",
       "      <td>2016-04-05</td>\n",
       "      <td>14:47:43</td>\n",
       "      <td>1.133330</td>\n",
       "      <td>198.0</td>\n",
       "      <td>0.0</td>\n",
       "    </tr>\n",
       "  </tbody>\n",
       "</table>\n",
       "</div>"
      ],
      "text/plain": [
       "                id  vendor_id     pickup_datetime    dropoff_datetime  \\\n",
       "1458635  id2376096          2 2016-04-08 13:31:04 2016-04-08 13:44:02   \n",
       "1458636  id1049543          1 2016-01-10 07:35:15 2016-01-10 07:46:10   \n",
       "1458637  id2304944          2 2016-04-22 06:57:41 2016-04-22 07:10:25   \n",
       "1458638  id2714485          1 2016-01-05 15:56:26 2016-01-05 16:02:39   \n",
       "1458639  id1209952          1 2016-04-05 14:44:25 2016-04-05 14:47:43   \n",
       "\n",
       "         passenger_count  pickup_longitude  pickup_latitude  \\\n",
       "1458635                4        -73.982201        40.745522   \n",
       "1458636                1        -74.000946        40.747379   \n",
       "1458637                1        -73.959129        40.768799   \n",
       "1458638                1        -73.982079        40.749062   \n",
       "1458639                1        -73.979538        40.781750   \n",
       "\n",
       "         dropoff_longitude  dropoff_latitude store_and_fwd_flag  \\\n",
       "1458635         -73.994911         40.740170                  N   \n",
       "1458636         -73.970184         40.796547                  N   \n",
       "1458637         -74.004433         40.707371                  N   \n",
       "1458638         -73.974632         40.757107                  N   \n",
       "1458639         -73.972809         40.790585                  N   \n",
       "\n",
       "         trip_duration                           pickup  \\\n",
       "1458635            778  (40.7455215454, -73.9822006226)   \n",
       "1458636            655   (40.747379303, -74.0009460449)   \n",
       "1458637            764  (40.7687988281, -73.9591293335)   \n",
       "1458638            373  (40.7490615845, -73.9820785522)   \n",
       "1458639            198  (40.7817497253, -73.9795379639)   \n",
       "\n",
       "                                 dropoff pickup_date pickup_time dropoff_date  \\\n",
       "1458635  (40.7401695251, -73.9822006226)  2016-04-08    13:31:04   2016-04-08   \n",
       "1458636   (40.796546936, -74.0009460449)  2016-01-10    07:35:15   2016-01-10   \n",
       "1458637  (40.7073707581, -73.9591293335)  2016-04-22    06:57:41   2016-04-22   \n",
       "1458638   (40.757106781, -73.9820785522)  2016-01-05    15:56:26   2016-01-05   \n",
       "1458639  (40.7905845642, -73.9795379639)  2016-04-05    14:44:25   2016-04-05   \n",
       "\n",
       "        dropoff_time      dist  s_duration  Duration_gap  \n",
       "1458635     13:44:02  1.224311       778.0           0.0  \n",
       "1458636     07:46:10  6.046037       655.0           0.0  \n",
       "1458637     07:10:25  7.819693       764.0           0.0  \n",
       "1458638     16:02:39  1.091878       373.0           0.0  \n",
       "1458639     14:47:43  1.133330       198.0           0.0  "
      ]
     },
     "execution_count": 30,
     "metadata": {},
     "output_type": "execute_result"
    }
   ],
   "source": [
    "taxi = taxi[taxi['trip_duration']<86400].reset_index(drop=True)\n",
    "taxi.tail()"
   ]
  },
  {
   "cell_type": "code",
   "execution_count": 31,
   "metadata": {},
   "outputs": [
    {
     "data": {
      "image/png": "[encoded data removed]",
      "text/plain": [
       "<matplotlib.figure.Figure at 0x7f56bfc8e588>"
      ]
     },
     "metadata": {
      "image/png": {
       "height": 248,
       "width": 401
      }
     },
     "output_type": "display_data"
    }
   ],
   "source": [
    "plt.scatter(taxi['trip_duration'], taxi.index)\n",
    "plt.show()"
   ]
  },
  {
   "cell_type": "markdown",
   "metadata": {},
   "source": [
    "## distance"
   ]
  },
  {
   "cell_type": "code",
   "execution_count": 32,
   "metadata": {},
   "outputs": [
    {
     "data": {
      "image/png": "[encoded data removed]",
      "text/plain": [
       "<matplotlib.figure.Figure at 0x7f56beef3898>"
      ]
     },
     "metadata": {
      "image/png": {
       "height": 248,
       "width": 401
      }
     },
     "output_type": "display_data"
    }
   ],
   "source": [
    "plt.scatter(taxi['dist'], taxi.index)\n",
    "plt.show() # duration outlier를 제거한 상태, km 단위"
   ]
  },
  {
   "cell_type": "code",
   "execution_count": 33,
   "metadata": {},
   "outputs": [
    {
     "data": {
      "text/html": [
       "<div>\n",
       "<style>\n",
       "    .dataframe thead tr:only-child th {\n",
       "        text-align: right;\n",
       "    }\n",
       "\n",
       "    .dataframe thead th {\n",
       "        text-align: left;\n",
       "    }\n",
       "\n",
       "    .dataframe tbody tr th {\n",
       "        vertical-align: top;\n",
       "    }\n",
       "</style>\n",
       "<table border=\"1\" class=\"dataframe\">\n",
       "  <thead>\n",
       "    <tr style=\"text-align: right;\">\n",
       "      <th></th>\n",
       "      <th>id</th>\n",
       "      <th>vendor_id</th>\n",
       "      <th>pickup_datetime</th>\n",
       "      <th>dropoff_datetime</th>\n",
       "      <th>passenger_count</th>\n",
       "      <th>pickup_longitude</th>\n",
       "      <th>pickup_latitude</th>\n",
       "      <th>dropoff_longitude</th>\n",
       "      <th>dropoff_latitude</th>\n",
       "      <th>store_and_fwd_flag</th>\n",
       "      <th>trip_duration</th>\n",
       "      <th>pickup</th>\n",
       "      <th>dropoff</th>\n",
       "      <th>pickup_date</th>\n",
       "      <th>pickup_time</th>\n",
       "      <th>dropoff_date</th>\n",
       "      <th>dropoff_time</th>\n",
       "      <th>dist</th>\n",
       "      <th>s_duration</th>\n",
       "      <th>Duration_gap</th>\n",
       "    </tr>\n",
       "  </thead>\n",
       "  <tbody>\n",
       "    <tr>\n",
       "      <th>184925</th>\n",
       "      <td>id2306955</td>\n",
       "      <td>1</td>\n",
       "      <td>2016-05-07 18:58:53</td>\n",
       "      <td>2016-05-07 19:12:05</td>\n",
       "      <td>1</td>\n",
       "      <td>-72.809669</td>\n",
       "      <td>51.881084</td>\n",
       "      <td>-73.987228</td>\n",
       "      <td>40.750599</td>\n",
       "      <td>N</td>\n",
       "      <td>792</td>\n",
       "      <td>(51.8810844421, -72.8096694946)</td>\n",
       "      <td>(40.7505989075, -72.8096694946)</td>\n",
       "      <td>2016-05-07</td>\n",
       "      <td>18:58:53</td>\n",
       "      <td>2016-05-07</td>\n",
       "      <td>19:12:05</td>\n",
       "      <td>1240.129578</td>\n",
       "      <td>792.0</td>\n",
       "      <td>0.0</td>\n",
       "    </tr>\n",
       "    <tr>\n",
       "      <th>974375</th>\n",
       "      <td>id1510552</td>\n",
       "      <td>2</td>\n",
       "      <td>2016-01-06 20:40:52</td>\n",
       "      <td>2016-01-06 20:51:03</td>\n",
       "      <td>5</td>\n",
       "      <td>-71.799896</td>\n",
       "      <td>35.081532</td>\n",
       "      <td>-79.352837</td>\n",
       "      <td>40.436329</td>\n",
       "      <td>N</td>\n",
       "      <td>611</td>\n",
       "      <td>(35.0815315247, -71.7998962402)</td>\n",
       "      <td>(40.4363288879, -71.7998962402)</td>\n",
       "      <td>2016-01-06</td>\n",
       "      <td>20:40:52</td>\n",
       "      <td>2016-01-06</td>\n",
       "      <td>20:51:03</td>\n",
       "      <td>890.654559</td>\n",
       "      <td>611.0</td>\n",
       "      <td>0.0</td>\n",
       "    </tr>\n",
       "  </tbody>\n",
       "</table>\n",
       "</div>"
      ],
      "text/plain": [
       "               id  vendor_id     pickup_datetime    dropoff_datetime  \\\n",
       "184925  id2306955          1 2016-05-07 18:58:53 2016-05-07 19:12:05   \n",
       "974375  id1510552          2 2016-01-06 20:40:52 2016-01-06 20:51:03   \n",
       "\n",
       "        passenger_count  pickup_longitude  pickup_latitude  dropoff_longitude  \\\n",
       "184925                1        -72.809669        51.881084         -73.987228   \n",
       "974375                5        -71.799896        35.081532         -79.352837   \n",
       "\n",
       "        dropoff_latitude store_and_fwd_flag  trip_duration  \\\n",
       "184925         40.750599                  N            792   \n",
       "974375         40.436329                  N            611   \n",
       "\n",
       "                                 pickup                          dropoff  \\\n",
       "184925  (51.8810844421, -72.8096694946)  (40.7505989075, -72.8096694946)   \n",
       "974375  (35.0815315247, -71.7998962402)  (40.4363288879, -71.7998962402)   \n",
       "\n",
       "       pickup_date pickup_time dropoff_date dropoff_time         dist  \\\n",
       "184925  2016-05-07    18:58:53   2016-05-07     19:12:05  1240.129578   \n",
       "974375  2016-01-06    20:40:52   2016-01-06     20:51:03   890.654559   \n",
       "\n",
       "        s_duration  Duration_gap  \n",
       "184925       792.0           0.0  \n",
       "974375       611.0           0.0  "
      ]
     },
     "execution_count": 33,
     "metadata": {},
     "output_type": "execute_result"
    }
   ],
   "source": [
    "taxi[taxi['dist']>800] \n",
    "#직선거리 1200 km를 13분만에 이동. 백퍼, 오작동\n",
    "#직선거리 890km를 11분만에 이동.  상동.\n"
   ]
  },
  {
   "cell_type": "code",
   "execution_count": null,
   "metadata": {
    "collapsed": true
   },
   "outputs": [],
   "source": []
  },
  {
   "cell_type": "code",
   "execution_count": 34,
   "metadata": {},
   "outputs": [
    {
     "data": {
      "text/plain": [
       "13319"
      ]
     },
     "execution_count": 34,
     "metadata": {},
     "output_type": "execute_result"
    }
   ],
   "source": [
    "len(taxi['dist'][taxi['dist'] < 0.1])  #100m 이하 "
   ]
  },
  {
   "cell_type": "code",
   "execution_count": 35,
   "metadata": {},
   "outputs": [
    {
     "data": {
      "text/plain": [
       "8665"
      ]
     },
     "execution_count": 35,
     "metadata": {},
     "output_type": "execute_result"
    }
   ],
   "source": [
    "len(taxi['dist'][taxi['dist'] < 0.01])  #10m 이하 "
   ]
  },
  {
   "cell_type": "code",
   "execution_count": 36,
   "metadata": {},
   "outputs": [
    {
     "data": {
      "text/plain": [
       "6549"
      ]
     },
     "execution_count": 36,
     "metadata": {},
     "output_type": "execute_result"
    }
   ],
   "source": [
    "len(taxi['dist'][taxi['dist'] < 0.001])  #1m 이하 "
   ]
  },
  {
   "cell_type": "code",
   "execution_count": 37,
   "metadata": {},
   "outputs": [
    {
     "data": {
      "text/plain": [
       "5897"
      ]
     },
     "execution_count": 37,
     "metadata": {},
     "output_type": "execute_result"
    }
   ],
   "source": [
    "len(taxi['dist'][taxi['dist'] < 0.0001])  #10cm 이하 "
   ]
  },
  {
   "cell_type": "code",
   "execution_count": 38,
   "metadata": {},
   "outputs": [
    {
     "data": {
      "text/plain": [
       "5897"
      ]
     },
     "execution_count": 38,
     "metadata": {},
     "output_type": "execute_result"
    }
   ],
   "source": [
    "len(taxi['dist'][taxi['dist'] < 0.00001])  #1cm 이하 이동"
   ]
  },
  {
   "cell_type": "markdown",
   "metadata": {},
   "source": [
    "---"
   ]
  },
  {
   "cell_type": "markdown",
   "metadata": {},
   "source": [
    "leaflet"
   ]
  },
  {
   "cell_type": "code",
   "execution_count": 39,
   "metadata": {},
   "outputs": [
    {
     "data": {
      "application/vnd.jupyter.widget-view+json": {
       "model_id": "ef1576e26f4641d2892b41835b021c33",
       "version_major": 2,
       "version_minor": 0
      },
      "text/html": [
       "<p>Failed to display Jupyter Widget of type <code>Map</code>.</p>\n",
       "<p>\n",
       "  If you're reading this message in the Jupyter Notebook or JupyterLab Notebook, it may mean\n",
       "  that the widgets JavaScript is still loading. If this message persists, it\n",
       "  likely means that the widgets JavaScript library is either not installed or\n",
       "  not enabled. See the <a href=\"https://ipywidgets.readthedocs.io/en/stable/user_install.html\">Jupyter\n",
       "  Widgets Documentation</a> for setup instructions.\n",
       "</p>\n",
       "<p>\n",
       "  If you're reading this message in another frontend (for example, a static\n",
       "  rendering on GitHub or <a href=\"https://nbviewer.jupyter.org/\">NBViewer</a>),\n",
       "  it may mean that your frontend doesn't currently support widgets.\n",
       "</p>\n"
      ],
      "text/plain": [
       "Map(basemap={'url': 'https://{s}.tile.openstreetmap.org/{z}/{x}/{y}.png', 'max_zoom': 19, 'attribution': 'Map data (c) <a href=\"https://openstreetmap.org\">OpenStreetMap</a> contributors'}, center=[40.745522, -73.982201], default_tiles=TileLayer(max_zoom=19, min_zoom=1, options=['attribution', 'detect_retina', 'max_zoom', 'min_zoom', 'opacity', 'tile_size']), layers=(TileLayer(max_zoom=19, min_zoom=1, options=['attribution', 'detect_retina', 'max_zoom', 'min_zoom', 'opacity', 'tile_size']),), layout=Layout(align_self='stretch', height='400px'), options=['attribution_control', 'basemap', 'bounce_at_zoom_limits', 'box_zoom', 'center', 'close_popup_on_click', 'double_click_zoom', 'dragging', 'inertia', 'inertia_deceleration', 'inertia_max_speed', 'keyboard', 'keyboard_pan_offset', 'keyboard_zoom_offset', 'max_zoom', 'min_zoom', 'scroll_wheel_zoom', 'tap', 'tap_tolerance', 'touch_zoom', 'world_copy_jump', 'zoom', 'zoom_animation_threshold', 'zoom_control', 'zoom_start'], zoom=13)"
      ]
     },
     "metadata": {},
     "output_type": "display_data"
    }
   ],
   "source": [
    "center = [40.745522, -73.982201] #lati, longi\n",
    "zoom = 13\n",
    "m = Map(center=center, zoom=zoom)\n",
    "m"
   ]
  },
  {
   "cell_type": "code",
   "execution_count": 40,
   "metadata": {
    "collapsed": true
   },
   "outputs": [],
   "source": [
    "marker = Marker(location=center)\n",
    "m += marker"
   ]
  },
  {
   "cell_type": "code",
   "execution_count": 41,
   "metadata": {},
   "outputs": [
    {
     "ename": "NameError",
     "evalue": "name 'locs' is not defined",
     "output_type": "error",
     "traceback": [
      "\u001b[0;31m---------------------------------------------------------------------------\u001b[0m",
      "\u001b[0;31mNameError\u001b[0m                                 Traceback (most recent call last)",
      "\u001b[0;32m<ipython-input-41-2d37a22b411a>\u001b[0m in \u001b[0;36m<module>\u001b[0;34m()\u001b[0m\n\u001b[0;32m----> 1\u001b[0;31m \u001b[0;32mfor\u001b[0m \u001b[0mloc\u001b[0m \u001b[0;32min\u001b[0m \u001b[0mlocs\u001b[0m\u001b[0;34m:\u001b[0m\u001b[0;34m\u001b[0m\u001b[0m\n\u001b[0m\u001b[1;32m      2\u001b[0m     \u001b[0mmarker\u001b[0m \u001b[0;34m=\u001b[0m \u001b[0mMarker\u001b[0m\u001b[0;34m(\u001b[0m\u001b[0mlocation\u001b[0m\u001b[0;34m=\u001b[0m\u001b[0mloc\u001b[0m\u001b[0;34m)\u001b[0m\u001b[0;34m\u001b[0m\u001b[0m\n\u001b[1;32m      3\u001b[0m     \u001b[0mm\u001b[0m \u001b[0;34m+=\u001b[0m \u001b[0mmarker\u001b[0m\u001b[0;34m\u001b[0m\u001b[0m\n\u001b[1;32m      4\u001b[0m     \u001b[0mtime\u001b[0m\u001b[0;34m.\u001b[0m\u001b[0msleep\u001b[0m\u001b[0;34m(\u001b[0m\u001b[0;36m0.5\u001b[0m\u001b[0;34m)\u001b[0m\u001b[0;34m\u001b[0m\u001b[0m\n",
      "\u001b[0;31mNameError\u001b[0m: name 'locs' is not defined"
     ]
    }
   ],
   "source": [
    "for loc in locs:\n",
    "    marker = Marker(location=loc)\n",
    "    m += marker\n",
    "    time.sleep(0.5)"
   ]
  },
  {
   "cell_type": "code",
   "execution_count": 42,
   "metadata": {
    "collapsed": true
   },
   "outputs": [],
   "source": [
    "dc = DrawControl(circle={'shapeOptions':{'color':'#0000FF'}}, rectangle={'shapeOptions':{'color':'#0000FF'}})\n",
    "m.add_control(dc)"
   ]
  },
  {
   "cell_type": "code",
   "execution_count": null,
   "metadata": {
    "collapsed": true
   },
   "outputs": [],
   "source": []
  }
 ],
 "metadata": {
  "kernelspec": {
   "display_name": "Python 3",
   "language": "python",
   "name": "python3"
  },
  "language_info": {
   "codemirror_mode": {
    "name": "ipython",
    "version": 3
   },
   "file_extension": ".py",
   "mimetype": "text/x-python",
   "name": "python",
   "nbconvert_exporter": "python",
   "pygments_lexer": "ipython3",
   "version": "3.6.4"
  }
 },
 "nbformat": 4,
 "nbformat_minor": 2
}
